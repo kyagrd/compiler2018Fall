{
 "cells": [
  {
   "cell_type": "code",
   "execution_count": 4,
   "metadata": {},
   "outputs": [],
   "source": [
    "type State = Int\n",
    "type Delta g = [(State, Maybe Char, Maybe g, [g], State)]\n",
    "\n",
    "delta :: Delta g -> (State)\n",
    "\n",
    "-- (max st, transitions, init stack sym, init st, final st)\n",
    "type PDA g = (State, Delta g, g, State, [State])"
   ]
  },
  {
   "cell_type": "code",
   "execution_count": null,
   "metadata": {},
   "outputs": [],
   "source": []
  }
 ],
 "metadata": {
  "kernelspec": {
   "display_name": "Haskell",
   "language": "haskell",
   "name": "haskell"
  },
  "language_info": {
   "codemirror_mode": "ihaskell",
   "file_extension": ".hs",
   "name": "haskell",
   "pygments_lexer": "Haskell",
   "version": "8.4.4"
  }
 },
 "nbformat": 4,
 "nbformat_minor": 2
}
