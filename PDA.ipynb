{
 "cells": [
  {
   "cell_type": "markdown",
   "metadata": {},
   "source": [
    "This notebook is provided by [Ki Yung Ahn](https://kyagrd.github.io/) as a course material for the compiler course at\n",
    "[Dept. of Computer Engineering](http://ce.hannam.ac.kr), [Hannam University](http://www.hnu.kr/), Daejeon, Korea."
   ]
  },
  {
   "cell_type": "code",
   "execution_count": 49,
   "metadata": {},
   "outputs": [],
   "source": [
    "type Nm = String\n",
    "\n",
    "type State = Int\n",
    "type Sigma = Char\n",
    "data Gamma = N Nm     -- Non-terminal symbol\n",
    "           | T Sigma  -- Terminal symbol\n",
    "           | Z        -- initial stack symbol\n",
    "           deriving (Eq, Show)\n",
    "type Delta = [(State, Maybe Sigma, Maybe Gamma, [Gamma], State)]\n",
    "\n",
    "-- We assume that the set of states are consecutive integers\n",
    "-- from the inital state (min state) to the max state, inclusively.\n",
    "-- (max state, transitions, initial state, final states)\n",
    "type PDA = (State, Delta, State, [State])"
   ]
  },
  {
   "cell_type": "code",
   "execution_count": 16,
   "metadata": {},
   "outputs": [],
   "source": [
    "delta :: PDA -> State -> Maybe Sigma -> Maybe Gamma -> [(State, [Gamma])]\n",
    "delta (_, d, _, _) p ms mg =\n",
    "  [(q,gs) | (p',ms',mg',gs,q)<-d, p==p', ms==ms', mg==mg']"
   ]
  },
  {
   "cell_type": "code",
   "execution_count": 40,
   "metadata": {},
   "outputs": [
    {
     "data": {
      "text/html": [
       "<style>/* Styles used for the Hoogle display in the pager */\n",
       ".hoogle-doc {\n",
       "display: block;\n",
       "padding-bottom: 1.3em;\n",
       "padding-left: 0.4em;\n",
       "}\n",
       ".hoogle-code {\n",
       "display: block;\n",
       "font-family: monospace;\n",
       "white-space: pre;\n",
       "}\n",
       ".hoogle-text {\n",
       "display: block;\n",
       "}\n",
       ".hoogle-name {\n",
       "color: green;\n",
       "font-weight: bold;\n",
       "}\n",
       ".hoogle-head {\n",
       "font-weight: bold;\n",
       "}\n",
       ".hoogle-sub {\n",
       "display: block;\n",
       "margin-left: 0.4em;\n",
       "}\n",
       ".hoogle-package {\n",
       "font-weight: bold;\n",
       "font-style: italic;\n",
       "}\n",
       ".hoogle-module {\n",
       "font-weight: bold;\n",
       "}\n",
       ".hoogle-class {\n",
       "font-weight: bold;\n",
       "}\n",
       ".get-type {\n",
       "color: green;\n",
       "font-weight: bold;\n",
       "font-family: monospace;\n",
       "display: block;\n",
       "white-space: pre-wrap;\n",
       "}\n",
       ".show-type {\n",
       "color: green;\n",
       "font-weight: bold;\n",
       "font-family: monospace;\n",
       "margin-left: 1em;\n",
       "}\n",
       ".mono {\n",
       "font-family: monospace;\n",
       "display: block;\n",
       "}\n",
       ".err-msg {\n",
       "color: red;\n",
       "font-style: italic;\n",
       "font-family: monospace;\n",
       "white-space: pre;\n",
       "display: block;\n",
       "}\n",
       "#unshowable {\n",
       "color: red;\n",
       "font-weight: bold;\n",
       "}\n",
       ".err-msg.in.collapse {\n",
       "padding-top: 0.7em;\n",
       "}\n",
       ".highlight-code {\n",
       "white-space: pre;\n",
       "font-family: monospace;\n",
       "}\n",
       ".suggestion-warning { \n",
       "font-weight: bold;\n",
       "color: rgb(200, 130, 0);\n",
       "}\n",
       ".suggestion-error { \n",
       "font-weight: bold;\n",
       "color: red;\n",
       "}\n",
       ".suggestion-name {\n",
       "font-weight: bold;\n",
       "}\n",
       "</style><span class='get-type'>step :: PDA -> (State, [Sigma], [Gamma]) -> [(State, [Sigma], [Gamma])]</span>"
      ],
      "text/plain": [
       "step :: PDA -> (State, [Sigma], [Gamma]) -> [(State, [Sigma], [Gamma])]"
      ]
     },
     "metadata": {},
     "output_type": "display_data"
    }
   ],
   "source": [
    "step pda (p,   [],  [])   =\n",
    "  [(q,   [], gs')        | (q,gs') <- delta pda p Nothing  Nothing ]\n",
    "step pda (p, c:cs,   [])  =\n",
    "  [(q, c:cs, gs')        | (q,gs') <- delta pda p Nothing  Nothing ] ++\n",
    "  [(q,   cs, gs')        | (q,gs') <- delta pda p (Just c) Nothing ]\n",
    "step pda (p,[],    g:gs) =\n",
    "  [(q,   [], gs'++ g:gs) | (q,gs') <- delta pda p Nothing  Nothing ] ++\n",
    "  [(q,   [], gs'++   gs) | (q,gs') <- delta pda p Nothing  (Just g)]\n",
    "step pda (p, c:cs, g:gs) =\n",
    "  [(q, c:cs, gs'++ g:gs) | (q,gs') <- delta pda p Nothing  Nothing ] ++\n",
    "  [(q,   cs, gs'++ g:gs) | (q,gs') <- delta pda p (Just c) Nothing ] ++\n",
    "  [(q, c:cs, gs'++   gs) | (q,gs') <- delta pda p Nothing  (Just g)] ++\n",
    "  [(q,   cs, gs'++   gs) | (q,gs') <- delta pda p (Just c) (Just g)]\n",
    "\n",
    ":type step"
   ]
  },
  {
   "cell_type": "code",
   "execution_count": 41,
   "metadata": {},
   "outputs": [
    {
     "data": {
      "text/html": [
       "<style>/* Styles used for the Hoogle display in the pager */\n",
       ".hoogle-doc {\n",
       "display: block;\n",
       "padding-bottom: 1.3em;\n",
       "padding-left: 0.4em;\n",
       "}\n",
       ".hoogle-code {\n",
       "display: block;\n",
       "font-family: monospace;\n",
       "white-space: pre;\n",
       "}\n",
       ".hoogle-text {\n",
       "display: block;\n",
       "}\n",
       ".hoogle-name {\n",
       "color: green;\n",
       "font-weight: bold;\n",
       "}\n",
       ".hoogle-head {\n",
       "font-weight: bold;\n",
       "}\n",
       ".hoogle-sub {\n",
       "display: block;\n",
       "margin-left: 0.4em;\n",
       "}\n",
       ".hoogle-package {\n",
       "font-weight: bold;\n",
       "font-style: italic;\n",
       "}\n",
       ".hoogle-module {\n",
       "font-weight: bold;\n",
       "}\n",
       ".hoogle-class {\n",
       "font-weight: bold;\n",
       "}\n",
       ".get-type {\n",
       "color: green;\n",
       "font-weight: bold;\n",
       "font-family: monospace;\n",
       "display: block;\n",
       "white-space: pre-wrap;\n",
       "}\n",
       ".show-type {\n",
       "color: green;\n",
       "font-weight: bold;\n",
       "font-family: monospace;\n",
       "margin-left: 1em;\n",
       "}\n",
       ".mono {\n",
       "font-family: monospace;\n",
       "display: block;\n",
       "}\n",
       ".err-msg {\n",
       "color: red;\n",
       "font-style: italic;\n",
       "font-family: monospace;\n",
       "white-space: pre;\n",
       "display: block;\n",
       "}\n",
       "#unshowable {\n",
       "color: red;\n",
       "font-weight: bold;\n",
       "}\n",
       ".err-msg.in.collapse {\n",
       "padding-top: 0.7em;\n",
       "}\n",
       ".highlight-code {\n",
       "white-space: pre;\n",
       "font-family: monospace;\n",
       "}\n",
       ".suggestion-warning { \n",
       "font-weight: bold;\n",
       "color: rgb(200, 130, 0);\n",
       "}\n",
       ".suggestion-error { \n",
       "font-weight: bold;\n",
       "color: red;\n",
       "}\n",
       ".suggestion-name {\n",
       "font-weight: bold;\n",
       "}\n",
       "</style><span class='get-type'>(|-) :: (State, [Sigma], [Gamma]) -> (State, [Sigma], [Gamma]) -> PDA -> Bool</span>"
      ],
      "text/plain": [
       "(|-) :: (State, [Sigma], [Gamma]) -> (State, [Sigma], [Gamma]) -> PDA -> Bool"
      ]
     },
     "metadata": {},
     "output_type": "display_data"
    }
   ],
   "source": [
    "(p,cs,gs) |- (q,cs',gs') = \\pda -> (q,cs',gs') `elem` step pda (p,cs,gs)\n",
    "\n",
    ":type (|-)"
   ]
  },
  {
   "cell_type": "code",
   "execution_count": 42,
   "metadata": {},
   "outputs": [],
   "source": [
    "-- reflexive transitive relation over |- limited by maximum number of stpes \n",
    "(|-*) :: (State, [Sigma], [Gamma]) -> (State, [Sigma], [Gamma]) -> (PDA, Int) -> Bool\n",
    "(|-*) (p,cs,gs) (q,cs',gs') (_,   n) | n <= 0 = (p,cs,gs)==(q,cs',gs')\n",
    "(|-*) (p,cs,gs) (q,cs',gs') (_,   _) | (p,cs,gs)==(q,cs',gs') = True\n",
    "(|-*) (p,cs,gs) (q,cs',gs') (pda, n) =\n",
    "  or [(p1,cs1,gs1) |-* (q,cs',gs') $ (pda, n-1) | (p1,cs1,gs1) <- step pda (p,cs,gs)]"
   ]
  },
  {
   "cell_type": "markdown",
   "metadata": {},
   "source": [
    "PDA for the conext-free language $\\displaystyle \\{a^nb^n \\mid n\\ge 0\\}$."
   ]
  },
  {
   "cell_type": "code",
   "execution_count": 43,
   "metadata": {},
   "outputs": [],
   "source": [
    "anbnPDA :: PDA\n",
    "anbnPDA = (2,d,0,[2])\n",
    "  where\n",
    "    d = [ (0, e,__Z, [_A, Z],    0) -- start\n",
    "        , (0, e,__A, [_a,_A,_b], 0) -- production rule A -> aAb\n",
    "        , (0, a,__a, [],         0) -- matching input a with stack terminal symbol\n",
    "        , (0, e,__A, [],         1) -- production rule A -> \\epsilon\n",
    "        , (1, b,__b, [],         1) -- matching input b with stack terminal symbol\n",
    "        , (1, e,__Z, [],         2) -- finish\n",
    "        ]\n",
    "    e = Nothing\n",
    "    a = Just 'a'\n",
    "    b = Just 'b'\n",
    "    __Z = Just Z\n",
    "    __A = Just _A\n",
    "    __a = Just _a\n",
    "    __b = Just _b\n",
    "\n",
    "_A = N \"A\"\n",
    "_a  = T 'a'\n",
    "_b  = T 'b'"
   ]
  },
  {
   "cell_type": "code",
   "execution_count": 44,
   "metadata": {},
   "outputs": [
    {
     "data": {
      "text/plain": [
       "True"
      ]
     },
     "metadata": {},
     "output_type": "display_data"
    },
    {
     "data": {
      "text/plain": [
       "True"
      ]
     },
     "metadata": {},
     "output_type": "display_data"
    },
    {
     "data": {
      "text/plain": [
       "True"
      ]
     },
     "metadata": {},
     "output_type": "display_data"
    },
    {
     "data": {
      "text/plain": [
       "True"
      ]
     },
     "metadata": {},
     "output_type": "display_data"
    },
    {
     "data": {
      "text/plain": [
       "True"
      ]
     },
     "metadata": {},
     "output_type": "display_data"
    },
    {
     "data": {
      "text/plain": [
       "True"
      ]
     },
     "metadata": {},
     "output_type": "display_data"
    },
    {
     "data": {
      "text/plain": [
       "True"
      ]
     },
     "metadata": {},
     "output_type": "display_data"
    },
    {
     "data": {
      "text/plain": [
       "True"
      ]
     },
     "metadata": {},
     "output_type": "display_data"
    },
    {
     "data": {
      "text/plain": [
       "True"
      ]
     },
     "metadata": {},
     "output_type": "display_data"
    }
   ],
   "source": [
    "(0,\"aabb\",            [ Z]) |- (0,\"aabb\",         [_A, Z]) $ anbnPDA\n",
    "(0,\"aabb\",         [_A, Z]) |- (0,\"aabb\",   [_a,_A,_b, Z]) $ anbnPDA\n",
    "(0,\"aabb\",   [_a,_A,_b, Z]) |- (0, \"abb\",      [_A,_b, Z]) $ anbnPDA\n",
    "(0, \"abb\",      [_A,_b, Z]) |- (0, \"abb\",[_a,_A,_b,_b, Z]) $ anbnPDA\n",
    "(0, \"abb\",[_a,_A,_b,_b, Z]) |- (0,  \"bb\",   [_A,_b,_b, Z]) $ anbnPDA\n",
    "(0,  \"bb\",   [_A,_b,_b, Z]) |- (1,  \"bb\",      [_b,_b, Z]) $ anbnPDA\n",
    "(1,  \"bb\",      [_b,_b, Z]) |- (1,   \"b\",         [_b, Z]) $ anbnPDA\n",
    "(1,   \"b\",         [_b, Z]) |- (1,    \"\",            [ Z]) $ anbnPDA\n",
    "(1,    \"\",            [ Z]) |- (2,    \"\",              []) $ anbnPDA"
   ]
  },
  {
   "cell_type": "code",
   "execution_count": 45,
   "metadata": {},
   "outputs": [
    {
     "data": {
      "text/plain": [
       "False"
      ]
     },
     "metadata": {},
     "output_type": "display_data"
    },
    {
     "data": {
      "text/plain": [
       "False"
      ]
     },
     "metadata": {},
     "output_type": "display_data"
    },
    {
     "data": {
      "text/plain": [
       "False"
      ]
     },
     "metadata": {},
     "output_type": "display_data"
    },
    {
     "data": {
      "text/plain": [
       "False"
      ]
     },
     "metadata": {},
     "output_type": "display_data"
    },
    {
     "data": {
      "text/plain": [
       "False"
      ]
     },
     "metadata": {},
     "output_type": "display_data"
    },
    {
     "data": {
      "text/plain": [
       "False"
      ]
     },
     "metadata": {},
     "output_type": "display_data"
    },
    {
     "data": {
      "text/plain": [
       "False"
      ]
     },
     "metadata": {},
     "output_type": "display_data"
    },
    {
     "data": {
      "text/plain": [
       "False"
      ]
     },
     "metadata": {},
     "output_type": "display_data"
    },
    {
     "data": {
      "text/plain": [
       "False"
      ]
     },
     "metadata": {},
     "output_type": "display_data"
    },
    {
     "data": {
      "text/plain": [
       "True"
      ]
     },
     "metadata": {},
     "output_type": "display_data"
    },
    {
     "data": {
      "text/plain": [
       "True"
      ]
     },
     "metadata": {},
     "output_type": "display_data"
    },
    {
     "data": {
      "text/plain": [
       "True"
      ]
     },
     "metadata": {},
     "output_type": "display_data"
    }
   ],
   "source": [
    "(0,\"aabb\",[Z]) |-* (2,\"\",[]) $ (anbnPDA, 0)\n",
    "(0,\"aabb\",[Z]) |-* (2,\"\",[]) $ (anbnPDA, 1)\n",
    "(0,\"aabb\",[Z]) |-* (2,\"\",[]) $ (anbnPDA, 2)\n",
    "(0,\"aabb\",[Z]) |-* (2,\"\",[]) $ (anbnPDA, 3)\n",
    "(0,\"aabb\",[Z]) |-* (2,\"\",[]) $ (anbnPDA, 4)\n",
    "(0,\"aabb\",[Z]) |-* (2,\"\",[]) $ (anbnPDA, 5)\n",
    "(0,\"aabb\",[Z]) |-* (2,\"\",[]) $ (anbnPDA, 6)\n",
    "(0,\"aabb\",[Z]) |-* (2,\"\",[]) $ (anbnPDA, 7)\n",
    "(0,\"aabb\",[Z]) |-* (2,\"\",[]) $ (anbnPDA, 8)\n",
    "(0,\"aabb\",[Z]) |-* (2,\"\",[]) $ (anbnPDA, 9)\n",
    "(0,\"aabb\",[Z]) |-* (2,\"\",[]) $ (anbnPDA,10)\n",
    "(0,\"aabb\",[Z]) |-* (2,\"\",[]) $ (anbnPDA,11)"
   ]
  },
  {
   "cell_type": "code",
   "execution_count": 46,
   "metadata": {},
   "outputs": [],
   "source": [
    "accepts cs pda@(_,_,q0,fs) n = or [(q0,cs,[Z]) |-* (f,\"\",[]) $ (pda, n) | f<-fs]"
   ]
  },
  {
   "cell_type": "code",
   "execution_count": 47,
   "metadata": {},
   "outputs": [
    {
     "data": {
      "text/plain": [
       "True"
      ]
     },
     "metadata": {},
     "output_type": "display_data"
    },
    {
     "data": {
      "text/plain": [
       "True"
      ]
     },
     "metadata": {},
     "output_type": "display_data"
    },
    {
     "data": {
      "text/plain": [
       "True"
      ]
     },
     "metadata": {},
     "output_type": "display_data"
    }
   ],
   "source": [
    "accepts \"\" anbnPDA 10\n",
    "accepts \"ab\" anbnPDA 10\n",
    "accepts \"aabb\" anbnPDA 10"
   ]
  },
  {
   "cell_type": "code",
   "execution_count": 48,
   "metadata": {},
   "outputs": [
    {
     "data": {
      "text/plain": [
       "False"
      ]
     },
     "metadata": {},
     "output_type": "display_data"
    },
    {
     "data": {
      "text/plain": [
       "False"
      ]
     },
     "metadata": {},
     "output_type": "display_data"
    },
    {
     "data": {
      "text/plain": [
       "False"
      ]
     },
     "metadata": {},
     "output_type": "display_data"
    },
    {
     "data": {
      "text/plain": [
       "False"
      ]
     },
     "metadata": {},
     "output_type": "display_data"
    },
    {
     "data": {
      "text/plain": [
       "False"
      ]
     },
     "metadata": {},
     "output_type": "display_data"
    },
    {
     "data": {
      "text/plain": [
       "False"
      ]
     },
     "metadata": {},
     "output_type": "display_data"
    }
   ],
   "source": [
    "accepts \"a\" anbnPDA 10\n",
    "accepts \"b\" anbnPDA 10\n",
    "accepts \"aa\" anbnPDA 10\n",
    "accepts \"bb\" anbnPDA 10\n",
    "accepts \"aab\" anbnPDA 10\n",
    "accepts \"abb\" anbnPDA 10"
   ]
  },
  {
   "cell_type": "code",
   "execution_count": null,
   "metadata": {},
   "outputs": [],
   "source": []
  }
 ],
 "metadata": {
  "kernelspec": {
   "display_name": "Haskell",
   "language": "haskell",
   "name": "haskell"
  },
  "language_info": {
   "codemirror_mode": "ihaskell",
   "file_extension": ".hs",
   "name": "haskell",
   "pygments_lexer": "Haskell",
   "version": "8.4.4"
  }
 },
 "nbformat": 4,
 "nbformat_minor": 2
}
