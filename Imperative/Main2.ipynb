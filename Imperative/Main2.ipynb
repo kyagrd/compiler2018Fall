{
 "cells": [
  {
   "cell_type": "code",
   "execution_count": 25,
   "metadata": {},
   "outputs": [],
   "source": [
    "data Ty\n",
    "  = Int         -- int\n",
    "  | Arr Ty Int  -- ty[3]\n",
    "  | Ptr Ty      -- ty*\n",
    "  | Str String  -- struct list\n",
    "  deriving Show\n",
    "\n",
    "data SDec = SDec String [VDec]     -- struct list { ... };\n",
    "  deriving Show\n",
    "\n",
    "data VDec = VDec Ty String         -- int x;\n",
    "  deriving Show\n",
    "\n",
    "data FDec = FDec Ty String [VDec] [VDec] Stmt\n",
    "  deriving Show\n",
    "\n",
    "data Stmt\n",
    "  = Sexp Exp                  --  e;\n",
    "  | Sseq [Stmt]               --  { ss }  where ss is either empty or e1; e2; ... \n",
    "  | If Exp Stmt               --  if (e) s\n",
    "  | IfElse Exp Stmt Stmt      --  if (e) s1 else s2\n",
    "  -- | Switch Exp [Stmt] Stmt    --  switch (e) { case 0: ss1 break; case 1: ss0 break; ... default: ssk }\n",
    "  | While Exp Stmt            --  while (e) s\n",
    "  | For (Exp, Exp, Exp) Stmt  --  for (e1; e2; e3) s\n",
    "  deriving Show\n",
    "  \n",
    "data Exp \n",
    "  = Lit Int            --  3\n",
    "  | Var String         --  x\n",
    "  | And Exp Exp        --  e1 && e2\n",
    "  | Or Exp Exp         --  e1 || e2\n",
    "  | Not Exp            --  ! e\n",
    "  | Equ Exp Exp        --  e1 == e2\n",
    "  | Neq Exp Exp        --  e1 != e2\n",
    "  | Gr  Exp Exp        --  e1 > e2\n",
    "  | Geq Exp Exp        --  e1 >= e2\n",
    "  | Le  Exp Exp        --  e1 < e2\n",
    "  | Leq Exp Exp        --  e1 <= e2\n",
    "  | Neg Exp            --  - e\n",
    "  | Add Exp Exp        --  e1 + e2\n",
    "  | Sub Exp Exp        --  e1 - e2\n",
    "  | Mul Exp Exp        --  e1 * e2\n",
    "  | Div Exp Exp        --  e1 / e2\n",
    "  | Assign Exp Exp     --  e1 <- e2\n",
    "  | Sizeof Ty          --  sizeof(ty)\n",
    "  | Ref                --  & e\n",
    "  | Deref              --  * e\n",
    "  | Func String [Exp]  -- f(e1, e2, ...)\n",
    "  deriving Show\n",
    "\n",
    "data Prog = Prog [SDec] [VDec] [FDec] Stmt  deriving Show"
   ]
  },
  {
   "cell_type": "code",
   "execution_count": 26,
   "metadata": {},
   "outputs": [],
   "source": [
    "import Data.List (intersperse)\n",
    "\n",
    "type Code = [Inst]\n",
    "\n",
    "type Addr = Int\n",
    "\n",
    "data Inst\n",
    "  = ADD | SUB | MUL | DIV | NEG\n",
    "  | AND | OR | NOT\n",
    "  | EQU | NEQ | GR | GEQ | LE | LEQ\n",
    "  | DUP | POP\n",
    "  | JUMP Code | JUMPz Code   --  | JUMPi [Code]\n",
    "  | LOAD | LOADc Int    --  | LOADa | LOADr | LOADrc\n",
    "  | STORE | STOREc Int  --  | STOREa | STOREr\n",
    "--  | ALLOC | SLIDE | CALL | ENTER  | RETURN\n",
    "--  | MALLOC | NEW\n",
    "--  | MARK\n",
    "  | HALT\n",
    "  deriving (Eq, Ord)\n",
    "\n",
    "type AEnv = [(String, Addr)]\n",
    "type TEnv = [(String, Ty)]\n",
    "type SEnv = [(String, [TEnv])]"
   ]
  },
  {
   "cell_type": "code",
   "execution_count": 27,
   "metadata": {},
   "outputs": [],
   "source": [
    "instance Show Inst where\n",
    "  show = showInst 0\n",
    "\n",
    "-- cyclic data가 무한히 출력되는 것을 막기 위해 깊이 제한\n",
    "showInst k ADD = \"ADD\"\n",
    "showInst k SUB = \"SUB\"\n",
    "showInst k MUL = \"MUL\"\n",
    "showInst k DIV = \"DIV\"\n",
    "showInst k NEG = \"NEG\"\n",
    "showInst k AND = \"AND\"\n",
    "showInst k OR  = \"OR\"\n",
    "showInst k NOT = \"NOT\"\n",
    "showInst k EQU = \"EQU\"\n",
    "showInst k NEQ = \"NEQ\"\n",
    "showInst k GR  = \"GR\"\n",
    "showInst k GEQ = \"GEQ\"\n",
    "showInst k LE  = \"LE\"\n",
    "showInst k LEQ = \"LEQ\"\n",
    "showInst k DUP = \"DUP\"\n",
    "showInst k POP = \"POP\"\n",
    "showInst k (JUMP c)  | k <= 0     = \"JUMP \"++\"<code>\"\n",
    "                     | otherwise = \"JUMP [\"++(concat . intersperse \", \" . map (showInst (k-1)) $ c)++\"]\"\n",
    "showInst k (JUMPz c) | k <= 0     = \"JUMPz \"++\"<code>\"\n",
    "                     | otherwise = \"JUMPz [\"++(concat . intersperse \", \" . map (showInst (k-1)) $ c)++\"]\"\n",
    "--  | JUMPi [Code]\n",
    "showInst k LOAD = \"LOAD\"\n",
    "showInst k (LOADc n) = \"LOADc \"++show n\n",
    "--  | LOADa | LOADr | LOADrc\n",
    "showInst k STORE = \"STORE\"\n",
    "showInst k (STOREc n) = \"STOREc \"++show n\n",
    "--  | STOREa | STOREr\n",
    "--  | ALLOC | SLIDE | CALL | ENTER  | RETURN\n",
    "--  | MALLOC | NEW\n",
    "--  | MARK\n",
    "showInst k HALT = \"HALT\""
   ]
  },
  {
   "cell_type": "code",
   "execution_count": 28,
   "metadata": {},
   "outputs": [],
   "source": [
    "c = [LOADc 1, JUMP c]"
   ]
  },
  {
   "cell_type": "code",
   "execution_count": 29,
   "metadata": {},
   "outputs": [
    {
     "data": {
      "text/plain": [
       "[LOADc 1,JUMP <code>]"
      ]
     },
     "metadata": {},
     "output_type": "display_data"
    },
    {
     "data": {
      "text/plain": [
       "[LOADc 1,JUMP <code>]"
      ]
     },
     "metadata": {},
     "output_type": "display_data"
    }
   ],
   "source": [
    "c\n",
    "-- <code> 안에 있는 내용을 까보고 싶으면 show에서 showInst 1로 한 레벨 더 출력\n",
    "\n",
    "-- 또는 직접 JUMP 인스트럭션을 뽑아와서 패턴 매칭\n",
    "JUMP c' = c!!1\n",
    "\n",
    "c'"
   ]
  },
  {
   "cell_type": "code",
   "execution_count": 30,
   "metadata": {},
   "outputs": [
    {
     "data": {
      "text/html": [
       "<style>/* Styles used for the Hoogle display in the pager */\n",
       ".hoogle-doc {\n",
       "display: block;\n",
       "padding-bottom: 1.3em;\n",
       "padding-left: 0.4em;\n",
       "}\n",
       ".hoogle-code {\n",
       "display: block;\n",
       "font-family: monospace;\n",
       "white-space: pre;\n",
       "}\n",
       ".hoogle-text {\n",
       "display: block;\n",
       "}\n",
       ".hoogle-name {\n",
       "color: green;\n",
       "font-weight: bold;\n",
       "}\n",
       ".hoogle-head {\n",
       "font-weight: bold;\n",
       "}\n",
       ".hoogle-sub {\n",
       "display: block;\n",
       "margin-left: 0.4em;\n",
       "}\n",
       ".hoogle-package {\n",
       "font-weight: bold;\n",
       "font-style: italic;\n",
       "}\n",
       ".hoogle-module {\n",
       "font-weight: bold;\n",
       "}\n",
       ".hoogle-class {\n",
       "font-weight: bold;\n",
       "}\n",
       ".get-type {\n",
       "color: green;\n",
       "font-weight: bold;\n",
       "font-family: monospace;\n",
       "display: block;\n",
       "white-space: pre-wrap;\n",
       "}\n",
       ".show-type {\n",
       "color: green;\n",
       "font-weight: bold;\n",
       "font-family: monospace;\n",
       "margin-left: 1em;\n",
       "}\n",
       ".mono {\n",
       "font-family: monospace;\n",
       "display: block;\n",
       "}\n",
       ".err-msg {\n",
       "color: red;\n",
       "font-style: italic;\n",
       "font-family: monospace;\n",
       "white-space: pre;\n",
       "display: block;\n",
       "}\n",
       "#unshowable {\n",
       "color: red;\n",
       "font-weight: bold;\n",
       "}\n",
       ".err-msg.in.collapse {\n",
       "padding-top: 0.7em;\n",
       "}\n",
       ".highlight-code {\n",
       "white-space: pre;\n",
       "font-family: monospace;\n",
       "}\n",
       ".suggestion-warning { \n",
       "font-weight: bold;\n",
       "color: rgb(200, 130, 0);\n",
       "}\n",
       ".suggestion-error { \n",
       "font-weight: bold;\n",
       "color: red;\n",
       "}\n",
       ".suggestion-name {\n",
       "font-weight: bold;\n",
       "}\n",
       "</style><span class='get-type'>fromJust :: forall a. Maybe a -> a</span>"
      ],
      "text/plain": [
       "fromJust :: forall a. Maybe a -> a"
      ]
     },
     "metadata": {},
     "output_type": "display_data"
    },
    {
     "data": {
      "text/plain": [
       "4"
      ]
     },
     "metadata": {},
     "output_type": "display_data"
    },
    {
     "data": {
      "text/html": [
       "<style>/* Styles used for the Hoogle display in the pager */\n",
       ".hoogle-doc {\n",
       "display: block;\n",
       "padding-bottom: 1.3em;\n",
       "padding-left: 0.4em;\n",
       "}\n",
       ".hoogle-code {\n",
       "display: block;\n",
       "font-family: monospace;\n",
       "white-space: pre;\n",
       "}\n",
       ".hoogle-text {\n",
       "display: block;\n",
       "}\n",
       ".hoogle-name {\n",
       "color: green;\n",
       "font-weight: bold;\n",
       "}\n",
       ".hoogle-head {\n",
       "font-weight: bold;\n",
       "}\n",
       ".hoogle-sub {\n",
       "display: block;\n",
       "margin-left: 0.4em;\n",
       "}\n",
       ".hoogle-package {\n",
       "font-weight: bold;\n",
       "font-style: italic;\n",
       "}\n",
       ".hoogle-module {\n",
       "font-weight: bold;\n",
       "}\n",
       ".hoogle-class {\n",
       "font-weight: bold;\n",
       "}\n",
       ".get-type {\n",
       "color: green;\n",
       "font-weight: bold;\n",
       "font-family: monospace;\n",
       "display: block;\n",
       "white-space: pre-wrap;\n",
       "}\n",
       ".show-type {\n",
       "color: green;\n",
       "font-weight: bold;\n",
       "font-family: monospace;\n",
       "margin-left: 1em;\n",
       "}\n",
       ".mono {\n",
       "font-family: monospace;\n",
       "display: block;\n",
       "}\n",
       ".err-msg {\n",
       "color: red;\n",
       "font-style: italic;\n",
       "font-family: monospace;\n",
       "white-space: pre;\n",
       "display: block;\n",
       "}\n",
       "#unshowable {\n",
       "color: red;\n",
       "font-weight: bold;\n",
       "}\n",
       ".err-msg.in.collapse {\n",
       "padding-top: 0.7em;\n",
       "}\n",
       ".highlight-code {\n",
       "white-space: pre;\n",
       "font-family: monospace;\n",
       "}\n",
       ".suggestion-warning { \n",
       "font-weight: bold;\n",
       "color: rgb(200, 130, 0);\n",
       "}\n",
       ".suggestion-error { \n",
       "font-weight: bold;\n",
       "color: red;\n",
       "}\n",
       ".suggestion-name {\n",
       "font-weight: bold;\n",
       "}\n",
       "</style><span class='err-msg'>Maybe.fromJust: Nothing</span>"
      ],
      "text/plain": [
       "Maybe.fromJust: Nothing"
      ]
     },
     "metadata": {},
     "output_type": "display_data"
    }
   ],
   "source": [
    "import Data.Maybe (fromJust)\n",
    "\n",
    ":type fromJust\n",
    "\n",
    "fromJust (Just 4)\n",
    "\n",
    "fromJust Nothing"
   ]
  },
  {
   "cell_type": "code",
   "execution_count": 31,
   "metadata": {},
   "outputs": [
    {
     "data": {
      "text/html": [
       "<style>/* Styles used for the Hoogle display in the pager */\n",
       ".hoogle-doc {\n",
       "display: block;\n",
       "padding-bottom: 1.3em;\n",
       "padding-left: 0.4em;\n",
       "}\n",
       ".hoogle-code {\n",
       "display: block;\n",
       "font-family: monospace;\n",
       "white-space: pre;\n",
       "}\n",
       ".hoogle-text {\n",
       "display: block;\n",
       "}\n",
       ".hoogle-name {\n",
       "color: green;\n",
       "font-weight: bold;\n",
       "}\n",
       ".hoogle-head {\n",
       "font-weight: bold;\n",
       "}\n",
       ".hoogle-sub {\n",
       "display: block;\n",
       "margin-left: 0.4em;\n",
       "}\n",
       ".hoogle-package {\n",
       "font-weight: bold;\n",
       "font-style: italic;\n",
       "}\n",
       ".hoogle-module {\n",
       "font-weight: bold;\n",
       "}\n",
       ".hoogle-class {\n",
       "font-weight: bold;\n",
       "}\n",
       ".get-type {\n",
       "color: green;\n",
       "font-weight: bold;\n",
       "font-family: monospace;\n",
       "display: block;\n",
       "white-space: pre-wrap;\n",
       "}\n",
       ".show-type {\n",
       "color: green;\n",
       "font-weight: bold;\n",
       "font-family: monospace;\n",
       "margin-left: 1em;\n",
       "}\n",
       ".mono {\n",
       "font-family: monospace;\n",
       "display: block;\n",
       "}\n",
       ".err-msg {\n",
       "color: red;\n",
       "font-style: italic;\n",
       "font-family: monospace;\n",
       "white-space: pre;\n",
       "display: block;\n",
       "}\n",
       "#unshowable {\n",
       "color: red;\n",
       "font-weight: bold;\n",
       "}\n",
       ".err-msg.in.collapse {\n",
       "padding-top: 0.7em;\n",
       "}\n",
       ".highlight-code {\n",
       "white-space: pre;\n",
       "font-family: monospace;\n",
       "}\n",
       ".suggestion-warning { \n",
       "font-weight: bold;\n",
       "color: rgb(200, 130, 0);\n",
       "}\n",
       ".suggestion-error { \n",
       "font-weight: bold;\n",
       "color: red;\n",
       "}\n",
       ".suggestion-name {\n",
       "font-weight: bold;\n",
       "}\n",
       "</style><span class='get-type'>lookup :: forall a b. Eq a => a -> [(a, b)] -> Maybe b</span>"
      ],
      "text/plain": [
       "lookup :: forall a b. Eq a => a -> [(a, b)] -> Maybe b"
      ]
     },
     "metadata": {},
     "output_type": "display_data"
    },
    {
     "data": {
      "text/html": [
       "<style>/* Styles used for the Hoogle display in the pager */\n",
       ".hoogle-doc {\n",
       "display: block;\n",
       "padding-bottom: 1.3em;\n",
       "padding-left: 0.4em;\n",
       "}\n",
       ".hoogle-code {\n",
       "display: block;\n",
       "font-family: monospace;\n",
       "white-space: pre;\n",
       "}\n",
       ".hoogle-text {\n",
       "display: block;\n",
       "}\n",
       ".hoogle-name {\n",
       "color: green;\n",
       "font-weight: bold;\n",
       "}\n",
       ".hoogle-head {\n",
       "font-weight: bold;\n",
       "}\n",
       ".hoogle-sub {\n",
       "display: block;\n",
       "margin-left: 0.4em;\n",
       "}\n",
       ".hoogle-package {\n",
       "font-weight: bold;\n",
       "font-style: italic;\n",
       "}\n",
       ".hoogle-module {\n",
       "font-weight: bold;\n",
       "}\n",
       ".hoogle-class {\n",
       "font-weight: bold;\n",
       "}\n",
       ".get-type {\n",
       "color: green;\n",
       "font-weight: bold;\n",
       "font-family: monospace;\n",
       "display: block;\n",
       "white-space: pre-wrap;\n",
       "}\n",
       ".show-type {\n",
       "color: green;\n",
       "font-weight: bold;\n",
       "font-family: monospace;\n",
       "margin-left: 1em;\n",
       "}\n",
       ".mono {\n",
       "font-family: monospace;\n",
       "display: block;\n",
       "}\n",
       ".err-msg {\n",
       "color: red;\n",
       "font-style: italic;\n",
       "font-family: monospace;\n",
       "white-space: pre;\n",
       "display: block;\n",
       "}\n",
       "#unshowable {\n",
       "color: red;\n",
       "font-weight: bold;\n",
       "}\n",
       ".err-msg.in.collapse {\n",
       "padding-top: 0.7em;\n",
       "}\n",
       ".highlight-code {\n",
       "white-space: pre;\n",
       "font-family: monospace;\n",
       "}\n",
       ".suggestion-warning { \n",
       "font-weight: bold;\n",
       "color: rgb(200, 130, 0);\n",
       "}\n",
       ".suggestion-error { \n",
       "font-weight: bold;\n",
       "color: red;\n",
       "}\n",
       ".suggestion-name {\n",
       "font-weight: bold;\n",
       "}\n",
       "</style><span class='get-type'>lookup' :: forall a c. Eq a => a -> [(a, c)] -> c</span>"
      ],
      "text/plain": [
       "lookup' :: forall a c. Eq a => a -> [(a, c)] -> c"
      ]
     },
     "metadata": {},
     "output_type": "display_data"
    }
   ],
   "source": [
    "lookup' x = fromJust . lookup x\n",
    "\n",
    ":type lookup\n",
    ":type lookup'"
   ]
  },
  {
   "cell_type": "code",
   "execution_count": 32,
   "metadata": {},
   "outputs": [],
   "source": [
    "import qualified Data.Map as Map\n",
    "import Data.Map (Map, (!)) -- Data.Map 모듈에서 Map 타입과 !연산자만\n",
    "\n",
    "type Mem = Map Addr Int\n",
    "\n",
    "emptyMem :: Mem\n",
    "emptyMem = Map.empty"
   ]
  },
  {
   "cell_type": "code",
   "execution_count": 33,
   "metadata": {},
   "outputs": [],
   "source": [
    "type Stack = [Int]\n",
    "type VM = (Code, Stack, Mem)\n",
    "\n",
    "b2i False = 0\n",
    "b2i True  = 1\n",
    "\n",
    "i2b = (/= 0)\n",
    "\n",
    "runVM :: VM -> VM\n",
    "runVM vm@([], _, _) = vm\n",
    "runVM vm = runVM (stepVM vm)\n",
    "\n",
    "stepVM :: VM -> VM\n",
    "stepVM (ADD:code, x:y:stack , mem) = (code, y + x : stack, mem)\n",
    "stepVM (SUB:code, x:y:stack , mem) = (code, y - x : stack, mem)\n",
    "stepVM (MUL:code, x:y:stack , mem) = (code, y * x : stack, mem)\n",
    "stepVM (DIV:code, x:y:stack , mem) = (code, y `div` x : stack, mem)\n",
    "stepVM (NEG:code, x:stack, mem) = (code, -x : stack , mem)\n",
    "stepVM (AND:code, x:y:stack , mem) = (code, b2i(i2b y && i2b x) : stack, mem)\n",
    "stepVM (OR:code,  x:y:stack , mem) = (code, b2i(i2b y || i2b x) : stack, mem)\n",
    "stepVM (NOT:code, x:stack , mem) = (code, b2i(not $ i2b x) : stack, mem)\n",
    "stepVM (EQU:code, x:y:stack , mem) = (code, b2i(x==y) : stack, mem)\n",
    "stepVM (NEQ:code, x:y:stack , mem) = (code, b2i(x/=y) : stack, mem)\n",
    "stepVM (GR:code,  x:y:stack , mem) = (code, b2i(y> x) : stack, mem)\n",
    "stepVM (GEQ:code, x:y:stack , mem) = (code, b2i(y>=x) : stack, mem)\n",
    "stepVM (LE:code,  x:y:stack , mem) = (code, b2i(y< x) : stack, mem)\n",
    "stepVM (LEQ:code, x:y:stack , mem) = (code, b2i(y<=x) : stack, mem)\n",
    "stepVM (DUP:code, x:stack, mem) = (code, x:x:stack, mem)\n",
    "stepVM (POP:code, x:stack,  mem) = (code, stack, mem)\n",
    "stepVM (JUMP c :code, stack, mem) = (c, stack, mem)\n",
    "stepVM (JUMPz c :code, 0:stack, mem) = (c, stack, mem)\n",
    "stepVM (JUMPz c :code, _:stack, mem) = (code, stack, mem)\n",
    "stepVM (LOAD :code, addr:stack, mem) = (code, mem!addr : stack, mem)\n",
    "stepVM (LOADc val :code, stack, mem) = (code, val:stack, mem)\n",
    "--  | LOADa | LOADr | LOADrc\n",
    "stepVM (STORE:code, addr:v:stack, mem) = (code, v:stack, Map.insert addr v mem)\n",
    "stepVM (STOREc v :code, addr:stack, mem) = (code, v:stack, Map.insert addr v mem)\n",
    "--  | STOREa | STOREr\n",
    "--  | ALLOC | SLIDE | CALL | ENTER  | RETURN\n",
    "--  | MALLOC | NEW\n",
    "--  | MARK\n",
    "stepVM (HALT:_, stack, mem) = ([], stack, mem)\n",
    "stepVM vm = error $ \"stemVM \"++show vm"
   ]
  },
  {
   "cell_type": "code",
   "execution_count": 55,
   "metadata": {},
   "outputs": [],
   "source": [
    "{-\n",
    "codeR :: Exp -> AEnv -> Code\n",
    "codeR (Lit q) rho = [LOADc q]\n",
    "codeR (Var x) rho = codeL (Var x) rho ++ [LOAD]\n",
    "codeR (And e1 e2) rho = codeR e1 rho ++ codeR e2 rho ++ [AND]\n",
    "codeR (Or e1 e2)  rho = codeR e1 rho ++ codeR e2 rho ++ [OR]\n",
    "codeR (Not e) rho = codeR e rho ++ [NOT]\n",
    "codeR (Equ e1 e2) rho = undefined\n",
    "codeR (Neq e1 e2) rho = undefined\n",
    "codeR (Gr e1 e2) rho = undefined\n",
    "codeR (Geq e1 e2) rho = undefined\n",
    "codeR (Le e1 e2) rho = undefined\n",
    "codeR (Leq e1 e2) rho = undefined\n",
    "codeR (Neg e) rho = undefined\n",
    "codeR (Add e1 e2) rho = codeR e1 rho ++ codeR e2 rho ++ [ADD]\n",
    "codeR (Sub e1 e2) rho = undefined\n",
    "codeR (Mul e1 e2) rho = undefined\n",
    "codeR (Div e1 e2) rho = undefined\n",
    "codeR (Assign (Var x) e) rho = codeR e rho ++ codeL (Var x) rho ++ [STORE]\n",
    "\n",
    "codeL (Var x) rho = [LOADc xAddr]  where xAddr = lookup' x rho\n",
    "\n",
    "code (Sexp e) rho = codeR e rho ++ [POP]\n",
    "code (Sseq (s:ss)) rho = code s rho ++ code (Sseq ss) rho\n",
    "code (Sseq []) rho = []\n",
    "...\n",
    "\n",
    "-- codeL :: Exp -> AEnv -> Code\n",
    "-- codeR :: Exp -> AEnv -> Code\n",
    "-- code :: Stmt -> AEnv -> Code\n",
    "-}\n",
    "\n",
    "codeL :: Exp -> AEnv -> (Code -> Code)\n",
    "codeR :: Exp -> AEnv -> (Code -> Code)\n",
    "code :: Stmt -> AEnv -> (Code -> Code)\n",
    "\n",
    "codeR (Lit q)        rho = (LOADc q :) -- (\\k -> LOADc q : k)\n",
    "codeR (Var x)        rho = codeL (Var x) rho . (LOAD :)\n",
    "codeR (And e1 e2)    rho = codeR e1 rho . codeR e2 rho . (AND :)\n",
    "codeR (Or e1 e2)     rho = codeR e1 rho . codeR e2 rho . (OR :)\n",
    "codeR (Not e)        rho = codeR e rho . (NOT :)\n",
    "codeR (Equ e1 e2)    rho = undefined\n",
    "codeR (Neq e1 e2)    rho = undefined\n",
    "codeR (Gr e1 e2)     rho = undefined\n",
    "codeR (Geq e1 e2)    rho = undefined\n",
    "codeR (Le e1 e2)     rho = codeR e1 rho . codeR e2 rho . (LE :)\n",
    "codeR (Leq e1 e2)    rho = undefined\n",
    "codeR (Neg e)        rho = codeR e rho . (NEG :)\n",
    "codeR (Add e1 e2)    rho = codeR e1 rho . codeR e2 rho . (ADD :)\n",
    "codeR (Sub e1 e2)    rho = undefined\n",
    "codeR (Mul e1 e2)    rho = undefined\n",
    "codeR (Div e1 e2)    rho = undefined\n",
    "codeR (Assign (Var x) e) rho = codeR e rho . codeL (Var x) rho . (STORE :)\n",
    "\n",
    "codeL (Var x) rho = (LOADc xAddr :)  where xAddr = lookup' x rho\n",
    "\n",
    "code (Sexp e) rho = codeR e rho . (POP :)\n",
    "code (Sseq (s:ss)) rho = code s rho . code (Sseq ss) rho\n",
    "code (Sseq [])     rho = \\k -> k\n",
    "code (If e s)         rho =  \\k -> codeR e rho . (JUMPz k :) . code s rho $ k\n",
    "code (IfElse e s1 s2) rho = undefined\n",
    "-- code (Switch e ss d) = undefined\n",
    "code (While e s) rho = \\k ->\n",
    "  let c = codeR e rho . (JUMPz k :) . code s rho . (JUMP c :) $ k\n",
    "   in c\n",
    "code (For (e1,e2,e3) s) rho = undefined"
   ]
  },
  {
   "cell_type": "code",
   "execution_count": 56,
   "metadata": {},
   "outputs": [
    {
     "data": {
      "text/html": [
       "<style>/* Styles used for the Hoogle display in the pager */\n",
       ".hoogle-doc {\n",
       "display: block;\n",
       "padding-bottom: 1.3em;\n",
       "padding-left: 0.4em;\n",
       "}\n",
       ".hoogle-code {\n",
       "display: block;\n",
       "font-family: monospace;\n",
       "white-space: pre;\n",
       "}\n",
       ".hoogle-text {\n",
       "display: block;\n",
       "}\n",
       ".hoogle-name {\n",
       "color: green;\n",
       "font-weight: bold;\n",
       "}\n",
       ".hoogle-head {\n",
       "font-weight: bold;\n",
       "}\n",
       ".hoogle-sub {\n",
       "display: block;\n",
       "margin-left: 0.4em;\n",
       "}\n",
       ".hoogle-package {\n",
       "font-weight: bold;\n",
       "font-style: italic;\n",
       "}\n",
       ".hoogle-module {\n",
       "font-weight: bold;\n",
       "}\n",
       ".hoogle-class {\n",
       "font-weight: bold;\n",
       "}\n",
       ".get-type {\n",
       "color: green;\n",
       "font-weight: bold;\n",
       "font-family: monospace;\n",
       "display: block;\n",
       "white-space: pre-wrap;\n",
       "}\n",
       ".show-type {\n",
       "color: green;\n",
       "font-weight: bold;\n",
       "font-family: monospace;\n",
       "margin-left: 1em;\n",
       "}\n",
       ".mono {\n",
       "font-family: monospace;\n",
       "display: block;\n",
       "}\n",
       ".err-msg {\n",
       "color: red;\n",
       "font-style: italic;\n",
       "font-family: monospace;\n",
       "white-space: pre;\n",
       "display: block;\n",
       "}\n",
       "#unshowable {\n",
       "color: red;\n",
       "font-weight: bold;\n",
       "}\n",
       ".err-msg.in.collapse {\n",
       "padding-top: 0.7em;\n",
       "}\n",
       ".highlight-code {\n",
       "white-space: pre;\n",
       "font-family: monospace;\n",
       "}\n",
       ".suggestion-warning { \n",
       "font-weight: bold;\n",
       "color: rgb(200, 130, 0);\n",
       "}\n",
       ".suggestion-error { \n",
       "font-weight: bold;\n",
       "color: red;\n",
       "}\n",
       ".suggestion-name {\n",
       "font-weight: bold;\n",
       "}\n",
       "</style><span class='get-type'>c1 :: Code -> Code</span>"
      ],
      "text/plain": [
       "c1 :: Code -> Code"
      ]
     },
     "metadata": {},
     "output_type": "display_data"
    }
   ],
   "source": [
    "c1 = codeR (Add (Lit 3) (Lit 4)) []\n",
    ":type c1"
   ]
  },
  {
   "cell_type": "code",
   "execution_count": 57,
   "metadata": {},
   "outputs": [
    {
     "data": {
      "text/plain": [
       "[LOADc 3,LOADc 4,ADD]"
      ]
     },
     "metadata": {},
     "output_type": "display_data"
    },
    {
     "data": {
      "text/plain": [
       "[LOADc 3,LOADc 4,ADD,LOADc 2,MUL]"
      ]
     },
     "metadata": {},
     "output_type": "display_data"
    }
   ],
   "source": [
    "c1 []\n",
    "c1 [LOADc 2, MUL]"
   ]
  },
  {
   "cell_type": "code",
   "execution_count": 58,
   "metadata": {},
   "outputs": [
    {
     "data": {
      "text/plain": [
       "([],[7],fromList [])"
      ]
     },
     "metadata": {},
     "output_type": "display_data"
    }
   ],
   "source": [
    "runVM (c1 [], [], emptyMem)"
   ]
  },
  {
   "cell_type": "code",
   "execution_count": 59,
   "metadata": {},
   "outputs": [
    {
     "data": {
      "text/plain": [
       "([],[14],fromList [])"
      ]
     },
     "metadata": {},
     "output_type": "display_data"
    }
   ],
   "source": [
    "runVM ([LOADc 2, MUL], [7], emptyMem)"
   ]
  },
  {
   "cell_type": "code",
   "execution_count": 60,
   "metadata": {},
   "outputs": [
    {
     "data": {
      "text/plain": [
       "([],[14],fromList [])"
      ]
     },
     "metadata": {},
     "output_type": "display_data"
    }
   ],
   "source": [
    "runVM (c1 [LOADc 2, MUL], [], emptyMem)"
   ]
  },
  {
   "cell_type": "code",
   "execution_count": 68,
   "metadata": {},
   "outputs": [
    {
     "data": {
      "text/plain": [
       "[LOADc -3,LOADc 1,STORE,POP,LOADc 1,LOAD,LOADc 2,STORE,POP,LOADc 2,LOAD,LOADc 0,LE,JUMPz <code>,LOADc 2,LOAD,NEG,LOADc 2,STORE,POP,HALT]"
      ]
     },
     "metadata": {},
     "output_type": "display_data"
    },
    {
     "data": {
      "text/plain": [
       "([],[],fromList [(1,-3),(2,3)])"
      ]
     },
     "metadata": {},
     "output_type": "display_data"
    }
   ],
   "source": [
    "-- x의 절대값을 구해서 y에 저장하자.\n",
    "rho = [(\"x\",1),(\"y\",2)] -- x를 주소 1, y를 주소 2의 메모리 공간에 할당\n",
    "\n",
    "{-\n",
    "   { x <- ?\n",
    "     y <- x;\n",
    "    if (y<0) y <- -y; }\n",
    "-}\n",
    "absExpr = Sseq [ Sexp(Assign (Var \"x\") (Lit (-3))),\n",
    "                 Sexp(Assign (Var \"y\") (Var \"x\")),\n",
    "                 If (Le(Var \"y\")(Lit 0)) (Sexp(Assign (Var \"y\") (Neg(Var \"y\"))))]\n",
    "\n",
    "c = code absExpr rho $ [HALT]\n",
    "c\n",
    "\n",
    "runVM (c,[],emptyMem)"
   ]
  },
  {
   "cell_type": "markdown",
   "metadata": {},
   "source": [
    "# hw2 명령형 언어 컴파일러 작성 과제 (6점)\n",
    "* `codeR`과 `code` 함수를 완성하라 (2점)\n",
    "* 팩토리알 프로그램을 `For`와 `IfElse`문을 사용해 작성하고 `code`함수로 컴파일하여 `runVM`으로 실행해 보라 (2점; 아직 변수 정의를 컴파일하는 코드는 작성하지 않았으므로 필요한 각각의 변수와 그에 대응되는 메모리 주소를 AEnv 환경에 직접 제공하는 방식으로 )\n",
    "* 팩토리알 프로그램에서 사용되지 않은 나머지 새로 작성한 각각의 문법요소이 대해 `codeR` 또는 `code`를 이용한 컴파일하고 `runVM`을 사용해 실행한 테스트 케이스를 작성하라 (2점; 하나라도 빠지면 1점 감점, 절반 이하 수준이면 0점)"
   ]
  }
 ],
 "metadata": {
  "kernelspec": {
   "display_name": "Haskell",
   "language": "haskell",
   "name": "haskell"
  },
  "language_info": {
   "codemirror_mode": "ihaskell",
   "file_extension": ".hs",
   "name": "haskell",
   "pygments_lexer": "Haskell",
   "version": "8.2.2"
  }
 },
 "nbformat": 4,
 "nbformat_minor": 1
}
