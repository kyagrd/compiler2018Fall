{
 "cells": [
  {
   "cell_type": "markdown",
   "metadata": {},
   "source": [
    "# hw4 과제 (4점, 제출기한: 11/15 밤 10시까지)\n",
    "* 과목: 컴파일러\n",
    "* 이름:\n",
    "* 학번\n",
    "\n",
    " 1. `string :: Parser String`을 작성하라 (1점)\n",
    " 1. `many1`와 `many`의 결과가 가장 길게 매칭되는 것만 나오게 바꾸어 보라. (1점)\n",
    " 1. `float :: Parser Float`을 작성하라 (2점)"
   ]
  },
  {
   "cell_type": "code",
   "execution_count": 1,
   "metadata": {},
   "outputs": [],
   "source": [
    "type Parser a = String -> [(a,String)]"
   ]
  },
  {
   "cell_type": "code",
   "execution_count": 2,
   "metadata": {},
   "outputs": [],
   "source": [
    "anyChar :: Parser Char\n",
    "anyChar (c:cs) = [(c, cs)]\n",
    "anyChar _      = []"
   ]
  },
  {
   "cell_type": "code",
   "execution_count": 3,
   "metadata": {},
   "outputs": [
    {
     "data": {
      "text/plain": [
       "[('a',\"bcde\")]"
      ]
     },
     "metadata": {},
     "output_type": "display_data"
    },
    {
     "data": {
      "text/plain": [
       "[('h',\"ijkl\")]"
      ]
     },
     "metadata": {},
     "output_type": "display_data"
    }
   ],
   "source": [
    "anyChar \"abcde\"\n",
    "anyChar \"hijkl\""
   ]
  },
  {
   "cell_type": "code",
   "execution_count": 4,
   "metadata": {},
   "outputs": [],
   "source": [
    "char :: Char -> Parser Char\n",
    "char c' (c:cs) | c'==c = [(c,cs)]\n",
    "char _  _              = []"
   ]
  },
  {
   "cell_type": "code",
   "execution_count": 5,
   "metadata": {},
   "outputs": [
    {
     "data": {
      "text/plain": [
       "[('a',\"bcde\")]"
      ]
     },
     "metadata": {},
     "output_type": "display_data"
    },
    {
     "data": {
      "text/plain": [
       "[]"
      ]
     },
     "metadata": {},
     "output_type": "display_data"
    }
   ],
   "source": [
    "char 'a' \"abcde\"\n",
    "char 'a' \"hijkl\""
   ]
  },
  {
   "cell_type": "code",
   "execution_count": 6,
   "metadata": {},
   "outputs": [],
   "source": [
    "oneOf xs (c:cs) | c `elem` xs = [(c,cs)]\n",
    "oneOf _  _                    = []"
   ]
  },
  {
   "cell_type": "code",
   "execution_count": 7,
   "metadata": {},
   "outputs": [
    {
     "data": {
      "text/plain": [
       "[('a',\"bcde\")]"
      ]
     },
     "metadata": {},
     "output_type": "display_data"
    },
    {
     "data": {
      "text/plain": [
       "[('b',\"cdef\")]"
      ]
     },
     "metadata": {},
     "output_type": "display_data"
    },
    {
     "data": {
      "text/plain": [
       "[('c',\"defg\")]"
      ]
     },
     "metadata": {},
     "output_type": "display_data"
    },
    {
     "data": {
      "text/plain": [
       "[]"
      ]
     },
     "metadata": {},
     "output_type": "display_data"
    }
   ],
   "source": [
    "oneOf ['a','b','c'] \"abcde\"\n",
    "oneOf ['a','b','c'] \"bcdef\"\n",
    "oneOf ['a','b','c'] \"cdefg\"\n",
    "oneOf ['a','b','c'] \"defgh\""
   ]
  },
  {
   "cell_type": "code",
   "execution_count": 8,
   "metadata": {},
   "outputs": [],
   "source": [
    "satisfy :: (Char -> Bool) -> Parser Char\n",
    "satisfy p (c:cs) | p c = [(c,cs)] \n",
    "satisfy _  _           = []"
   ]
  },
  {
   "cell_type": "code",
   "execution_count": 9,
   "metadata": {},
   "outputs": [],
   "source": [
    "anyChar = satisfy (const True) -- statisfy (\\_ -> True)\n",
    "char x = satisfy (x==)\n",
    "oneOf xs = satisfy (`elem` xs)"
   ]
  },
  {
   "cell_type": "code",
   "execution_count": 10,
   "metadata": {},
   "outputs": [
    {
     "data": {
      "text/plain": [
       "[('a',\"bcde\")]"
      ]
     },
     "metadata": {},
     "output_type": "display_data"
    },
    {
     "data": {
      "text/plain": [
       "[('h',\"ijkl\")]"
      ]
     },
     "metadata": {},
     "output_type": "display_data"
    }
   ],
   "source": [
    "anyChar \"abcde\"\n",
    "anyChar \"hijkl\""
   ]
  },
  {
   "cell_type": "code",
   "execution_count": 11,
   "metadata": {},
   "outputs": [
    {
     "data": {
      "text/plain": [
       "[('a',\"bcde\")]"
      ]
     },
     "metadata": {},
     "output_type": "display_data"
    },
    {
     "data": {
      "text/plain": [
       "[]"
      ]
     },
     "metadata": {},
     "output_type": "display_data"
    }
   ],
   "source": [
    "char 'a' \"abcde\"\n",
    "char 'a' \"hijkl\""
   ]
  },
  {
   "cell_type": "code",
   "execution_count": 12,
   "metadata": {},
   "outputs": [
    {
     "data": {
      "text/plain": [
       "[('a',\"bcde\")]"
      ]
     },
     "metadata": {},
     "output_type": "display_data"
    },
    {
     "data": {
      "text/plain": [
       "[('b',\"cdef\")]"
      ]
     },
     "metadata": {},
     "output_type": "display_data"
    },
    {
     "data": {
      "text/plain": [
       "[('c',\"defg\")]"
      ]
     },
     "metadata": {},
     "output_type": "display_data"
    },
    {
     "data": {
      "text/plain": [
       "[]"
      ]
     },
     "metadata": {},
     "output_type": "display_data"
    }
   ],
   "source": [
    "oneOf ['a','b','c'] \"abcde\"\n",
    "oneOf ['a','b','c'] \"bcdef\"\n",
    "oneOf ['a','b','c'] \"cdefg\"\n",
    "oneOf ['a','b','c'] \"defgh\""
   ]
  },
  {
   "cell_type": "code",
   "execution_count": 13,
   "metadata": {},
   "outputs": [],
   "source": [
    "import Data.Char\n",
    "space = satisfy isSpace\n",
    "alphaNum = satisfy isAlphaNum\n",
    "letter = satisfy isAlpha\n",
    "lower = satisfy isLower\n",
    "upper = satisfy isUpper\n",
    "digit = satisfy isDigit"
   ]
  },
  {
   "cell_type": "code",
   "execution_count": 14,
   "metadata": {},
   "outputs": [
    {
     "data": {
      "text/plain": [
       "[]"
      ]
     },
     "metadata": {},
     "output_type": "display_data"
    },
    {
     "data": {
      "text/plain": [
       "[('1',\"23abc\")]"
      ]
     },
     "metadata": {},
     "output_type": "display_data"
    }
   ],
   "source": [
    "digit \"abcde\"\n",
    "digit \"123abc\""
   ]
  },
  {
   "cell_type": "markdown",
   "metadata": {},
   "source": [
    "아래의 실행예처럼 주어진 문자열과 정확히 일치하는 만큼을 분석하여 처리하는 `string` 함수를 작성하라. (다음 과제의 첫 문제가 될 내용이다)\n",
    "```haskell\n",
    "string \"abc\" \"abcdef\" == [(\"abc\",\"def\")]\n",
    "```"
   ]
  },
  {
   "cell_type": "code",
   "execution_count": 15,
   "metadata": {},
   "outputs": [],
   "source": [
    "string :: String -> Parser String \n",
    "string \"\"     cs                 = [(\"\",cs)]\n",
    "string (x:xs) (c:cs) | undefined = undefined\n",
    "string _      _                  = []"
   ]
  },
  {
   "cell_type": "markdown",
   "metadata": {},
   "source": [
    "----"
   ]
  },
  {
   "cell_type": "markdown",
   "metadata": {},
   "source": [
    "다음 과제의 두번째 문제는 아래 모든 개수를 다 고려하는 문법분석 함수 many1과 many를 가장 길게 매칭되는 경우만 결과로 하는 것으로 수정하라는 것"
   ]
  },
  {
   "cell_type": "code",
   "execution_count": 16,
   "metadata": {},
   "outputs": [],
   "source": [
    "-- parse one or more times\n",
    "many1 :: Parser a -> Parser [a]\n",
    "many1 p cs = [([x], cs') | (x,cs')<-ps] -- 한번 처리한 결과 x를 리스트로\n",
    "            ++\n",
    "             [(x:xs, cs'') | (x,cs')<-ps, (xs,cs'')<-many1 p cs']\n",
    "           where ps = p cs\n",
    "\n",
    "-- parse zero or more time\n",
    "many :: Parser a -> Parser [a]\n",
    "many p cs = [([],cs)] ++ many1 p cs"
   ]
  },
  {
   "cell_type": "code",
   "execution_count": 17,
   "metadata": {},
   "outputs": [
    {
     "data": {
      "text/plain": [
       "[('h',\"ello world\")]"
      ]
     },
     "metadata": {},
     "output_type": "display_data"
    }
   ],
   "source": [
    "letter \"hello world\""
   ]
  },
  {
   "cell_type": "code",
   "execution_count": 18,
   "metadata": {},
   "outputs": [
    {
     "data": {
      "text/plain": [
       "[(\"h\",\"ello world\"),(\"he\",\"llo world\"),(\"hel\",\"lo world\"),(\"hell\",\"o world\"),(\"hello\",\" world\")]"
      ]
     },
     "metadata": {},
     "output_type": "display_data"
    },
    {
     "data": {
      "text/plain": [
       "[]"
      ]
     },
     "metadata": {},
     "output_type": "display_data"
    }
   ],
   "source": [
    "many1 letter \"hello world\"\n",
    "many1 letter \"   hello world\""
   ]
  },
  {
   "cell_type": "code",
   "execution_count": 19,
   "metadata": {},
   "outputs": [
    {
     "data": {
      "text/plain": [
       "[(\"\",\"hello world\"),(\"h\",\"ello world\"),(\"he\",\"llo world\"),(\"hel\",\"lo world\"),(\"hell\",\"o world\"),(\"hello\",\" world\")]"
      ]
     },
     "metadata": {},
     "output_type": "display_data"
    },
    {
     "data": {
      "text/plain": [
       "[(\"\",\"   hello world\")]"
      ]
     },
     "metadata": {},
     "output_type": "display_data"
    }
   ],
   "source": [
    "many letter \"hello world\"\n",
    "many letter \"   hello world\""
   ]
  },
  {
   "cell_type": "code",
   "execution_count": 20,
   "metadata": {},
   "outputs": [],
   "source": [
    "spaces = many space"
   ]
  },
  {
   "cell_type": "code",
   "execution_count": 21,
   "metadata": {},
   "outputs": [
    {
     "data": {
      "text/plain": [
       "[(\"\",\"hello world\")]"
      ]
     },
     "metadata": {},
     "output_type": "display_data"
    },
    {
     "data": {
      "text/plain": [
       "[(\"\",\"   hello world\"),(\" \",\"  hello world\"),(\"  \",\" hello world\"),(\"   \",\"hello world\")]"
      ]
     },
     "metadata": {},
     "output_type": "display_data"
    }
   ],
   "source": [
    "spaces \"hello world\"\n",
    "spaces \"   hello world\""
   ]
  },
  {
   "cell_type": "markdown",
   "metadata": {},
   "source": [
    "## 십진수 양의 정수를 분석하기"
   ]
  },
  {
   "cell_type": "code",
   "execution_count": 22,
   "metadata": {},
   "outputs": [],
   "source": [
    "-- 맨 앞에는 0이 아닌 숫자, 그 다음에는 아무 십진수 숫자나\n",
    "\n",
    "firstDigit = oneOf ['1'..'9'] -- 맨 앞글자를 처리 (딱 1개 글자)\n",
    "digits = many digit       -- 뒷글자들을 처리 (0개 이상 글자)"
   ]
  },
  {
   "cell_type": "code",
   "execution_count": 23,
   "metadata": {},
   "outputs": [
    {
     "data": {
      "text/plain": [
       "[('1',\"23 abc\")]"
      ]
     },
     "metadata": {},
     "output_type": "display_data"
    },
    {
     "data": {
      "text/plain": [
       "[]"
      ]
     },
     "metadata": {},
     "output_type": "display_data"
    }
   ],
   "source": [
    "firstDigit \"123 abc\"\n",
    "firstDigit \"023 abc\""
   ]
  },
  {
   "cell_type": "code",
   "execution_count": 24,
   "metadata": {},
   "outputs": [
    {
     "data": {
      "text/plain": [
       "[(\"\",\"123 abc\"),(\"1\",\"23 abc\"),(\"12\",\"3 abc\"),(\"123\",\" abc\")]"
      ]
     },
     "metadata": {},
     "output_type": "display_data"
    },
    {
     "data": {
      "text/plain": [
       "[(\"\",\"023 abc\"),(\"0\",\"23 abc\"),(\"02\",\"3 abc\"),(\"023\",\" abc\")]"
      ]
     },
     "metadata": {},
     "output_type": "display_data"
    }
   ],
   "source": [
    "digits \"123 abc\"\n",
    "digits \"023 abc\""
   ]
  },
  {
   "cell_type": "code",
   "execution_count": 25,
   "metadata": {},
   "outputs": [
    {
     "data": {
      "text/html": [
       "<style>/* Styles used for the Hoogle display in the pager */\n",
       ".hoogle-doc {\n",
       "display: block;\n",
       "padding-bottom: 1.3em;\n",
       "padding-left: 0.4em;\n",
       "}\n",
       ".hoogle-code {\n",
       "display: block;\n",
       "font-family: monospace;\n",
       "white-space: pre;\n",
       "}\n",
       ".hoogle-text {\n",
       "display: block;\n",
       "}\n",
       ".hoogle-name {\n",
       "color: green;\n",
       "font-weight: bold;\n",
       "}\n",
       ".hoogle-head {\n",
       "font-weight: bold;\n",
       "}\n",
       ".hoogle-sub {\n",
       "display: block;\n",
       "margin-left: 0.4em;\n",
       "}\n",
       ".hoogle-package {\n",
       "font-weight: bold;\n",
       "font-style: italic;\n",
       "}\n",
       ".hoogle-module {\n",
       "font-weight: bold;\n",
       "}\n",
       ".hoogle-class {\n",
       "font-weight: bold;\n",
       "}\n",
       ".get-type {\n",
       "color: green;\n",
       "font-weight: bold;\n",
       "font-family: monospace;\n",
       "display: block;\n",
       "white-space: pre-wrap;\n",
       "}\n",
       ".show-type {\n",
       "color: green;\n",
       "font-weight: bold;\n",
       "font-family: monospace;\n",
       "margin-left: 1em;\n",
       "}\n",
       ".mono {\n",
       "font-family: monospace;\n",
       "display: block;\n",
       "}\n",
       ".err-msg {\n",
       "color: red;\n",
       "font-style: italic;\n",
       "font-family: monospace;\n",
       "white-space: pre;\n",
       "display: block;\n",
       "}\n",
       "#unshowable {\n",
       "color: red;\n",
       "font-weight: bold;\n",
       "}\n",
       ".err-msg.in.collapse {\n",
       "padding-top: 0.7em;\n",
       "}\n",
       ".highlight-code {\n",
       "white-space: pre;\n",
       "font-family: monospace;\n",
       "}\n",
       ".suggestion-warning { \n",
       "font-weight: bold;\n",
       "color: rgb(200, 130, 0);\n",
       "}\n",
       ".suggestion-error { \n",
       "font-weight: bold;\n",
       "color: red;\n",
       "}\n",
       ".suggestion-name {\n",
       "font-weight: bold;\n",
       "}\n",
       "</style><span class='get-type'>firstDigit :: Parser Char</span>"
      ],
      "text/plain": [
       "firstDigit :: Parser Char"
      ]
     },
     "metadata": {},
     "output_type": "display_data"
    },
    {
     "data": {
      "text/html": [
       "<style>/* Styles used for the Hoogle display in the pager */\n",
       ".hoogle-doc {\n",
       "display: block;\n",
       "padding-bottom: 1.3em;\n",
       "padding-left: 0.4em;\n",
       "}\n",
       ".hoogle-code {\n",
       "display: block;\n",
       "font-family: monospace;\n",
       "white-space: pre;\n",
       "}\n",
       ".hoogle-text {\n",
       "display: block;\n",
       "}\n",
       ".hoogle-name {\n",
       "color: green;\n",
       "font-weight: bold;\n",
       "}\n",
       ".hoogle-head {\n",
       "font-weight: bold;\n",
       "}\n",
       ".hoogle-sub {\n",
       "display: block;\n",
       "margin-left: 0.4em;\n",
       "}\n",
       ".hoogle-package {\n",
       "font-weight: bold;\n",
       "font-style: italic;\n",
       "}\n",
       ".hoogle-module {\n",
       "font-weight: bold;\n",
       "}\n",
       ".hoogle-class {\n",
       "font-weight: bold;\n",
       "}\n",
       ".get-type {\n",
       "color: green;\n",
       "font-weight: bold;\n",
       "font-family: monospace;\n",
       "display: block;\n",
       "white-space: pre-wrap;\n",
       "}\n",
       ".show-type {\n",
       "color: green;\n",
       "font-weight: bold;\n",
       "font-family: monospace;\n",
       "margin-left: 1em;\n",
       "}\n",
       ".mono {\n",
       "font-family: monospace;\n",
       "display: block;\n",
       "}\n",
       ".err-msg {\n",
       "color: red;\n",
       "font-style: italic;\n",
       "font-family: monospace;\n",
       "white-space: pre;\n",
       "display: block;\n",
       "}\n",
       "#unshowable {\n",
       "color: red;\n",
       "font-weight: bold;\n",
       "}\n",
       ".err-msg.in.collapse {\n",
       "padding-top: 0.7em;\n",
       "}\n",
       ".highlight-code {\n",
       "white-space: pre;\n",
       "font-family: monospace;\n",
       "}\n",
       ".suggestion-warning { \n",
       "font-weight: bold;\n",
       "color: rgb(200, 130, 0);\n",
       "}\n",
       ".suggestion-error { \n",
       "font-weight: bold;\n",
       "color: red;\n",
       "}\n",
       ".suggestion-name {\n",
       "font-weight: bold;\n",
       "}\n",
       "</style><span class='get-type'>digits :: Parser [Char]</span>"
      ],
      "text/plain": [
       "digits :: Parser [Char]"
      ]
     },
     "metadata": {},
     "output_type": "display_data"
    }
   ],
   "source": [
    ":type firstDigit\n",
    ":type digits"
   ]
  },
  {
   "cell_type": "markdown",
   "metadata": {},
   "source": [
    "이제 `firstDigit`으로 분석한 결과값(`x`)과 처리하고 난 나머지 문자열을 `digits`으로 분석한 결과값(`xs`)을 합친 값(`x:xs`)을 그 결과값으로 하는 Parser를 정의해 보자."
   ]
  },
  {
   "cell_type": "code",
   "execution_count": 26,
   "metadata": {},
   "outputs": [],
   "source": [
    "posint:: Parser String\n",
    "posint s = [(x:xs, cs')  | (x, cs)<-firstDigit s, (xs, cs') <- digits cs]"
   ]
  },
  {
   "cell_type": "code",
   "execution_count": 27,
   "metadata": {},
   "outputs": [
    {
     "data": {
      "text/html": [
       "<style>/* Styles used for the Hoogle display in the pager */\n",
       ".hoogle-doc {\n",
       "display: block;\n",
       "padding-bottom: 1.3em;\n",
       "padding-left: 0.4em;\n",
       "}\n",
       ".hoogle-code {\n",
       "display: block;\n",
       "font-family: monospace;\n",
       "white-space: pre;\n",
       "}\n",
       ".hoogle-text {\n",
       "display: block;\n",
       "}\n",
       ".hoogle-name {\n",
       "color: green;\n",
       "font-weight: bold;\n",
       "}\n",
       ".hoogle-head {\n",
       "font-weight: bold;\n",
       "}\n",
       ".hoogle-sub {\n",
       "display: block;\n",
       "margin-left: 0.4em;\n",
       "}\n",
       ".hoogle-package {\n",
       "font-weight: bold;\n",
       "font-style: italic;\n",
       "}\n",
       ".hoogle-module {\n",
       "font-weight: bold;\n",
       "}\n",
       ".hoogle-class {\n",
       "font-weight: bold;\n",
       "}\n",
       ".get-type {\n",
       "color: green;\n",
       "font-weight: bold;\n",
       "font-family: monospace;\n",
       "display: block;\n",
       "white-space: pre-wrap;\n",
       "}\n",
       ".show-type {\n",
       "color: green;\n",
       "font-weight: bold;\n",
       "font-family: monospace;\n",
       "margin-left: 1em;\n",
       "}\n",
       ".mono {\n",
       "font-family: monospace;\n",
       "display: block;\n",
       "}\n",
       ".err-msg {\n",
       "color: red;\n",
       "font-style: italic;\n",
       "font-family: monospace;\n",
       "white-space: pre;\n",
       "display: block;\n",
       "}\n",
       "#unshowable {\n",
       "color: red;\n",
       "font-weight: bold;\n",
       "}\n",
       ".err-msg.in.collapse {\n",
       "padding-top: 0.7em;\n",
       "}\n",
       ".highlight-code {\n",
       "white-space: pre;\n",
       "font-family: monospace;\n",
       "}\n",
       ".suggestion-warning { \n",
       "font-weight: bold;\n",
       "color: rgb(200, 130, 0);\n",
       "}\n",
       ".suggestion-error { \n",
       "font-weight: bold;\n",
       "color: red;\n",
       "}\n",
       ".suggestion-name {\n",
       "font-weight: bold;\n",
       "}\n",
       "</style><span class='get-type'>read :: forall a. Read a => String -> a</span>"
      ],
      "text/plain": [
       "read :: forall a. Read a => String -> a"
      ]
     },
     "metadata": {},
     "output_type": "display_data"
    }
   ],
   "source": [
    ":type read"
   ]
  },
  {
   "cell_type": "code",
   "execution_count": 28,
   "metadata": {},
   "outputs": [
    {
     "data": {
      "text/plain": [
       "123"
      ]
     },
     "metadata": {},
     "output_type": "display_data"
    }
   ],
   "source": [
    "read \"123\" :: Int"
   ]
  },
  {
   "cell_type": "code",
   "execution_count": 29,
   "metadata": {},
   "outputs": [],
   "source": [
    "posint :: Parser Int\n",
    "posint cs = [(read(x:xs), cs'')  | (x, cs')<-firstDigit cs, (xs, cs'') <- digits cs']"
   ]
  },
  {
   "cell_type": "code",
   "execution_count": 30,
   "metadata": {},
   "outputs": [
    {
     "data": {
      "text/plain": [
       "[(1,\"23 hello\"),(12,\"3 hello\"),(123,\" hello\")]"
      ]
     },
     "metadata": {},
     "output_type": "display_data"
    }
   ],
   "source": [
    "posint \"123 hello\""
   ]
  },
  {
   "cell_type": "markdown",
   "metadata": {},
   "source": [
    "하나의 Parser 다음에 다른 Parser를 순차적으로 실행하는 패턴은 자주 나타날 수 있기 때문에 이것을 다음과 같은 연산자로 일반화할 수 있다."
   ]
  },
  {
   "cell_type": "code",
   "execution_count": 31,
   "metadata": {},
   "outputs": [],
   "source": [
    "(>>=) :: Parser a -> (a -> Parser b) -> Parser b\n",
    "p >>= f = \\cs -> [(y,cs'') | (x, cs')<-p cs, (y,cs'') <- f x cs']\n",
    "\n",
    "infixr 1 >>="
   ]
  },
  {
   "cell_type": "markdown",
   "metadata": {},
   "source": [
    "일반적으로 이런 연산자를 여러 번 겹쳐 다음과 같이 쓰면 여러 Parser들을 차례로 실행한 새로운 Parser를 정의할 수 있다.  \n",
    "```haskell\n",
    "p1 >>= \\x1 -> p2 >>= \\x2 -> p3 >>= \\x3 -> ....\n",
    "```\n",
    "\n",
    "괄호를 많이 써주자면 아래와 같다\n",
    "```haskell\n",
    "p1 >>= (\\x1 -> (p2 >>= (\\x2 -> (p3 >>= (\\x3 -> ....))))\n",
    "```"
   ]
  },
  {
   "cell_type": "code",
   "execution_count": 32,
   "metadata": {},
   "outputs": [],
   "source": [
    "posint :: Parser Int\n",
    "posint = firstDigit >>= \\x  ->\n",
    "         digits     >>= \\xs ->\n",
    "         \\cs -> [(read(x:xs), cs)]"
   ]
  },
  {
   "cell_type": "code",
   "execution_count": 33,
   "metadata": {},
   "outputs": [
    {
     "data": {
      "text/plain": [
       "[(1,\"23 hello\"),(12,\"3 hello\"),(123,\" hello\")]"
      ]
     },
     "metadata": {},
     "output_type": "display_data"
    }
   ],
   "source": [
    "posint \"123 hello\""
   ]
  },
  {
   "cell_type": "markdown",
   "metadata": {},
   "source": [
    "위에서 마지막 줄인 이 부분은\n",
    "```haskell\n",
    "\\cs -> [(read(x:xs), cs)]\n",
    "```\n",
    "두 Parser를 순차적으로 실행한 결과를 모아서 만든 어떤 새로운 결과값 하나만 돌려주고\n",
    "그 두 Parser를 실행하고 남은 나머지 문자열인 `cs`에 대해서는 어떠한 추가적인 문법 처리도 일어나지 않는다.\n",
    "\n",
    "이런 식으로 순차적으로 이어붙이는 연산의 마지막에서는 위와 같은 패턴을 자주 사용할 것이라는 것이 예상되므로\n",
    "이를 아래와 같이 이를 `return` 함수로 정의하자. "
   ]
  },
  {
   "cell_type": "code",
   "execution_count": 34,
   "metadata": {},
   "outputs": [],
   "source": [
    "return :: b -> Parser b\n",
    "return v = \\cs -> [(v,cs)] "
   ]
  },
  {
   "cell_type": "code",
   "execution_count": 35,
   "metadata": {},
   "outputs": [],
   "source": [
    "posint :: Parser Int\n",
    "posint = firstDigit >>= \\x  ->\n",
    "         digits     >>= \\xs ->\n",
    "         return (read(x:xs))"
   ]
  },
  {
   "cell_type": "markdown",
   "metadata": {},
   "source": [
    "# 자연수 Parser와  정수 Parser"
   ]
  },
  {
   "cell_type": "markdown",
   "metadata": {},
   "source": [
    "이제 자연수 Parser와 정수 Parser를 만들어 보자. 자연수는 양의 정수이거나 0이며 정수는\n",
    "자연수이거나 음의 정수이므로 이들 각각에 해당하는 Parser를 만들어 결과가 그 중 어느 것이든 될 수 있는 Parser를 만들면 된다. 이를 위해 필요한 Parser에 대한 연산자를 정의하자."
   ]
  },
  {
   "cell_type": "code",
   "execution_count": 36,
   "metadata": {},
   "outputs": [],
   "source": [
    "(<|>) :: Parser a -> Parser a -> Parser a\n",
    "p1 <|> p2 = \\cs -> p1 cs ++ p2 cs\n",
    "\n",
    "infixl 3 <|>"
   ]
  },
  {
   "cell_type": "code",
   "execution_count": 37,
   "metadata": {},
   "outputs": [],
   "source": [
    "nat :: Parser Int\n",
    "nat = zero <|> posint\n",
    "\n",
    "int :: Parser Int\n",
    "int = nat <|> negint\n",
    "\n",
    "zero :: Parser Int\n",
    "zero   = char '0' >>= \\_ ->\n",
    "         return 0\n",
    "\n",
    "negint :: Parser Int\n",
    "negint = char '-' >>= \\_ ->\n",
    "         posint   >>= \\n ->\n",
    "         return (-n)"
   ]
  },
  {
   "cell_type": "code",
   "execution_count": 38,
   "metadata": {},
   "outputs": [
    {
     "data": {
      "text/plain": [
       "[(1,\"23 hello\"),(12,\"3 hello\"),(123,\" hello\")]"
      ]
     },
     "metadata": {},
     "output_type": "display_data"
    },
    {
     "data": {
      "text/plain": [
       "[(0,\" hello\")]"
      ]
     },
     "metadata": {},
     "output_type": "display_data"
    },
    {
     "data": {
      "text/plain": [
       "[]"
      ]
     },
     "metadata": {},
     "output_type": "display_data"
    }
   ],
   "source": [
    "nat \"123 hello\"\n",
    "nat \"0 hello\"\n",
    "nat \"-12 hello\""
   ]
  },
  {
   "cell_type": "code",
   "execution_count": 39,
   "metadata": {},
   "outputs": [
    {
     "data": {
      "text/plain": [
       "[(1,\"23 hello\"),(12,\"3 hello\"),(123,\" hello\")]"
      ]
     },
     "metadata": {},
     "output_type": "display_data"
    },
    {
     "data": {
      "text/plain": [
       "[(0,\" hello\")]"
      ]
     },
     "metadata": {},
     "output_type": "display_data"
    },
    {
     "data": {
      "text/plain": [
       "[(-1,\"2 hello\"),(-12,\" hello\")]"
      ]
     },
     "metadata": {},
     "output_type": "display_data"
    }
   ],
   "source": [
    "int \"123 hello\"\n",
    "int \"0 hello\"\n",
    "int \"-12 hello\""
   ]
  },
  {
   "cell_type": "markdown",
   "metadata": {},
   "source": [
    "`-0.025`, `0.025`, `3.1415927`, `-31.45`, `3.0`, `3`, `-4.0`, `-4`, `0.0`, `0` 등과 같은 형태를 분석하는\n",
    "`float :: Parser Float`을 작성하라."
   ]
  },
  {
   "cell_type": "code",
   "execution_count": 40,
   "metadata": {},
   "outputs": [],
   "source": [
    "float :: Parser Float\n",
    "float = undefined"
   ]
  },
  {
   "cell_type": "markdown",
   "metadata": {},
   "source": [
    "# 심화자율학습 주제\n",
    "\n",
    "부교재 12장 내용으로 소개되는 내용인 하스켈에서 Monad와 Applicative에 대해 알아보라."
   ]
  },
  {
   "cell_type": "code",
   "execution_count": null,
   "metadata": {},
   "outputs": [],
   "source": []
  }
 ],
 "metadata": {
  "kernelspec": {
   "display_name": "Haskell",
   "language": "haskell",
   "name": "haskell"
  },
  "language_info": {
   "codemirror_mode": "ihaskell",
   "file_extension": ".hs",
   "name": "haskell",
   "pygments_lexer": "Haskell",
   "version": "8.4.4"
  }
 },
 "nbformat": 4,
 "nbformat_minor": 2
}
