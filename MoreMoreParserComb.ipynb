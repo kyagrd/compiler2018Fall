{
 "cells": [
  {
   "cell_type": "code",
   "execution_count": 18,
   "metadata": {},
   "outputs": [],
   "source": [
    "type Parser a = String -> [(a,String)]"
   ]
  },
  {
   "cell_type": "code",
   "execution_count": 19,
   "metadata": {},
   "outputs": [],
   "source": [
    "satisfy :: (Char -> Bool) -> Parser Char\n",
    "satisfy p (c:cs) | p c = [(c,cs)] \n",
    "satisfy _  _           = []"
   ]
  },
  {
   "cell_type": "code",
   "execution_count": 20,
   "metadata": {},
   "outputs": [],
   "source": [
    "anyChar = satisfy (const True) -- statisfy (\\_ -> True)\n",
    "char x = satisfy (x==)\n",
    "oneOf xs = satisfy (`elem` xs)"
   ]
  },
  {
   "cell_type": "code",
   "execution_count": 21,
   "metadata": {},
   "outputs": [],
   "source": [
    "import Data.Char\n",
    "space = satisfy isSpace\n",
    "alphaNum = satisfy isAlphaNum\n",
    "letter = satisfy isAlpha\n",
    "lower = satisfy isLower\n",
    "upper = satisfy isUpper\n",
    "digit = satisfy isDigit"
   ]
  },
  {
   "cell_type": "markdown",
   "metadata": {},
   "source": [
    "아래의 실행예처럼 주어진 문자열과 정확히 일치하는 만큼을 분석하여 처리하는 `string` 함수를 작성하라. (다음 과제의 첫 문제가 될 내용이다)\n",
    "```haskell\n",
    "string \"abc\" \"abcdef\" == [(\"abc\",\"def\")]\n",
    "```"
   ]
  },
  {
   "cell_type": "code",
   "execution_count": 22,
   "metadata": {},
   "outputs": [],
   "source": [
    "string :: String -> Parser String \n",
    "string \"\"     cs                 = [(\"\",cs)]\n",
    "string (x:xs) (c:cs) | undefined = undefined\n",
    "string _      _                  = []"
   ]
  },
  {
   "cell_type": "markdown",
   "metadata": {},
   "source": [
    "----"
   ]
  },
  {
   "cell_type": "markdown",
   "metadata": {},
   "source": [
    "다음 과제의 두번째 문제는 아래 모든 개수를 다 고려하는 문법분석 함수 many1과 many를 가장 길게 매칭되는 경우만 결과로 하는 것으로 수정하라는 것"
   ]
  },
  {
   "cell_type": "code",
   "execution_count": 23,
   "metadata": {},
   "outputs": [],
   "source": [
    "-- parse one or more times\n",
    "many1 :: Parser a -> Parser [a]\n",
    "many1 p cs = [([x], cs') | (x,cs')<-ps] -- 한번 처리한 결과 x를 리스트로\n",
    "            ++\n",
    "             [(x:xs, cs'') | (x,cs')<-ps, (xs,cs'')<-many1 p cs']\n",
    "           where ps = p cs\n",
    "\n",
    "-- parse zero or more time\n",
    "many :: Parser a -> Parser [a]\n",
    "many p cs = [([],cs)] ++ many1 p cs"
   ]
  },
  {
   "cell_type": "code",
   "execution_count": 24,
   "metadata": {},
   "outputs": [],
   "source": [
    "spaces = many space"
   ]
  },
  {
   "cell_type": "markdown",
   "metadata": {},
   "source": [
    "## 십진수 양의 정수를 분석하기"
   ]
  },
  {
   "cell_type": "code",
   "execution_count": 25,
   "metadata": {},
   "outputs": [],
   "source": [
    "-- 맨 앞에는 0이 아닌 숫자, 그 다음에는 아무 십진수 숫자나\n",
    "\n",
    "firstDigit = oneOf ['1'..'9'] -- 맨 앞글자를 처리 (딱 1개 글자)\n",
    "digits = many digit       -- 뒷글자들을 처리 (0개 이상 글자)"
   ]
  },
  {
   "cell_type": "code",
   "execution_count": 26,
   "metadata": {},
   "outputs": [],
   "source": [
    "(>>=) :: Parser a -> (a -> Parser b) -> Parser b\n",
    "p >>= f = \\cs -> [(y,cs'') | (x, cs')<-p cs, (y,cs'') <- f x cs']\n",
    "\n",
    "infixr 1 >>="
   ]
  },
  {
   "cell_type": "code",
   "execution_count": 27,
   "metadata": {},
   "outputs": [],
   "source": [
    "return :: b -> Parser b\n",
    "return v = \\cs -> [(v,cs)] "
   ]
  },
  {
   "cell_type": "code",
   "execution_count": 28,
   "metadata": {},
   "outputs": [],
   "source": [
    "posint :: Parser Int\n",
    "posint = firstDigit >>= \\x  ->\n",
    "         digits     >>= \\xs ->\n",
    "         return (read(x:xs))"
   ]
  },
  {
   "cell_type": "markdown",
   "metadata": {},
   "source": [
    "# 자연수 Parser와  정수 Parser"
   ]
  },
  {
   "cell_type": "markdown",
   "metadata": {},
   "source": [
    "이제 자연수 Parser와 정수 Parser를 만들어 보자. 자연수는 양의 정수이거나 0이며 정수는\n",
    "자연수이거나 음의 정수이므로 이들 각각에 해당하는 Parser를 만들어 결과가 그 중 어느 것이든 될 수 있는 Parser를 만들면 된다. 이를 위해 필요한 Parser에 대한 연산자를 정의하자."
   ]
  },
  {
   "cell_type": "code",
   "execution_count": 29,
   "metadata": {},
   "outputs": [],
   "source": [
    "(<|>) :: Parser a -> Parser a -> Parser a\n",
    "p1 <|> p2 = \\cs -> p1 cs ++ p2 cs\n",
    "\n",
    "infixl 3 <|>"
   ]
  },
  {
   "cell_type": "code",
   "execution_count": 30,
   "metadata": {},
   "outputs": [],
   "source": [
    "nat :: Parser Int\n",
    "nat = zero <|> posint\n",
    "\n",
    "int :: Parser Int\n",
    "int = nat <|> negint\n",
    "\n",
    "zero :: Parser Int\n",
    "zero   = char '0' >>= \\_ ->\n",
    "         return 0\n",
    "\n",
    "negint :: Parser Int\n",
    "negint = char '-' >>= \\_ ->\n",
    "         posint   >>= \\n ->\n",
    "         return (-n)"
   ]
  },
  {
   "cell_type": "markdown",
   "metadata": {},
   "source": [
    "----"
   ]
  },
  {
   "cell_type": "code",
   "execution_count": 31,
   "metadata": {},
   "outputs": [],
   "source": [
    "token :: Parser a -> Parser a\n",
    "token p = spaces >>= \\_ ->\n",
    "          p      >>= \\v ->\n",
    "          spaces >>= \\_ ->\n",
    "          return v"
   ]
  },
  {
   "cell_type": "code",
   "execution_count": 32,
   "metadata": {},
   "outputs": [],
   "source": [
    "integer = token int\n",
    "lowercase = token lower"
   ]
  },
  {
   "cell_type": "code",
   "execution_count": 33,
   "metadata": {},
   "outputs": [
    {
     "data": {
      "text/plain": [
       "[(1,\"23 \"),(12,\"3 \"),(123,\" \"),(123,\"\")]"
      ]
     },
     "metadata": {},
     "output_type": "display_data"
    },
    {
     "data": {
      "text/plain": [
       "[(-1,\"23 \"),(-12,\"3 \"),(-123,\" \"),(-123,\"\")]"
      ]
     },
     "metadata": {},
     "output_type": "display_data"
    },
    {
     "data": {
      "text/plain": [
       "[(0,\" \"),(0,\"\")]"
      ]
     },
     "metadata": {},
     "output_type": "display_data"
    }
   ],
   "source": [
    "integer \" 123 \"\n",
    "integer \" -123 \"\n",
    "integer \" 0 \""
   ]
  },
  {
   "cell_type": "code",
   "execution_count": 34,
   "metadata": {},
   "outputs": [
    {
     "data": {
      "text/plain": [
       "[('b',\"  \"),('b',\" \"),('b',\"\")]"
      ]
     },
     "metadata": {},
     "output_type": "display_data"
    },
    {
     "data": {
      "text/plain": [
       "[]"
      ]
     },
     "metadata": {},
     "output_type": "display_data"
    }
   ],
   "source": [
    "lowercase \"   b  \"\n",
    "lowercase \"   A  \""
   ]
  },
  {
   "cell_type": "code",
   "execution_count": 46,
   "metadata": {},
   "outputs": [],
   "source": [
    "tok = token . char\n",
    "tokDigit = token digit"
   ]
  },
  {
   "cell_type": "markdown",
   "metadata": {},
   "source": [
    "애매한 문법\n",
    "```\n",
    "expr ::= expr '+' expr | expr '*' expr | digit | '(' expr ')'\n",
    "digit ::= 0 | 1 | 2 | 3 | 4 | 5 | 6 | 7 | 8 | 9\n",
    "```\n",
    "\n",
    "왼쪽재귀를 없앤 문법 (하지만 연산자 우선순위는 지정 안되어 있음)\n",
    "```\n",
    "expr ::= digit '+' expr | digit '*' expr | digit\n",
    "digit ::= 0 | 1 | 2 | 3 | 4 | 5 | 6 | 7 | 8 | 9\n",
    "```\n",
    "\n",
    "연산자 우선순위까지 지정하는 문법 (하지만 결합 방향은 우결합만 가능)\n",
    "```\n",
    "term   ::= digit   |  '(' expr ')'\n",
    "factor ::= term    |  term   '*' factor\n",
    "expr   ::= factor  |  factor '+' expr\n",
    "```\n",
    "\n",
    "연산자 결합 방향을 문법분석 후 처리하기 용이하도록 반복되는 부분을 Kleene 연산자로 묶어줌\n",
    "```\n",
    "term   ::= digit  |  '(' expr ')'\n",
    "factor ::= term   ( '*' term   )*\n",
    "expr   ::= factor ( '+' factor )*\n",
    "```"
   ]
  },
  {
   "cell_type": "code",
   "execution_count": 70,
   "metadata": {},
   "outputs": [],
   "source": [
    "-- 나무구조의 추상문법(abstract syntax)에는 연산자 우선순위나 괄호 등이 필요없다\n",
    "-- 이미 나무구조로 어떤 식들이 어떻게 묶여 있는지 표현되기 때문\n",
    "data Expr = Plus Expr Expr | Mult Expr Expr | Digit Char deriving Show"
   ]
  },
  {
   "cell_type": "code",
   "execution_count": 74,
   "metadata": {},
   "outputs": [],
   "source": [
    "-- 재귀 하강 문법분석기 (recursive decendent parser)\n",
    "\n",
    "digitExpr = tokDigit >>= \\c ->\n",
    "            return $ Digit c\n",
    "\n",
    "term   = digitExpr <|> ( tok '(' >>= \\_ ->\n",
    "                         expr    >>= \\e ->\n",
    "                         tok ')' >>= \\_ ->\n",
    "                         return e )\n",
    "\n",
    "factor = term                       >>= \\e0 ->\n",
    "         many ( tok '*' >>= \\_ ->\n",
    "                term  >>= \\e ->\n",
    "                return e          ) >>= \\es ->\n",
    "         return $ foldl Mult e0 es\n",
    "\n",
    "expr   = factor                     >>= \\e0 ->\n",
    "         many ( tok '+' >>= \\_ ->\n",
    "                factor    >>= \\e ->\n",
    "                return e          ) >>= \\es ->\n",
    "         return $ foldl Plus e0 es"
   ]
  },
  {
   "cell_type": "code",
   "execution_count": 82,
   "metadata": {},
   "outputs": [
    {
     "data": {
      "text/plain": [
       "(Digit '1',\"\")"
      ]
     },
     "metadata": {},
     "output_type": "display_data"
    },
    {
     "data": {
      "text/plain": [
       "(Plus (Digit '1') (Digit '2'),\"\")"
      ]
     },
     "metadata": {},
     "output_type": "display_data"
    },
    {
     "data": {
      "text/plain": [
       "(Digit '1',\"\")"
      ]
     },
     "metadata": {},
     "output_type": "display_data"
    },
    {
     "data": {
      "text/plain": [
       "(Mult (Mult (Digit '1') (Digit '2')) (Digit '3'),\"\")"
      ]
     },
     "metadata": {},
     "output_type": "display_data"
    },
    {
     "data": {
      "text/plain": [
       "(Digit '1',\"\")"
      ]
     },
     "metadata": {},
     "output_type": "display_data"
    },
    {
     "data": {
      "text/plain": [
       "(Plus (Plus (Digit '1') (Digit '2')) (Digit '3'),\"\")"
      ]
     },
     "metadata": {},
     "output_type": "display_data"
    },
    {
     "data": {
      "text/plain": [
       "(Plus (Digit '1') (Mult (Digit '2') (Digit '3')),\"\")"
      ]
     },
     "metadata": {},
     "output_type": "display_data"
    },
    {
     "data": {
      "text/plain": [
       "(Plus (Mult (Digit '1') (Digit '2')) (Digit '3'),\"\")"
      ]
     },
     "metadata": {},
     "output_type": "display_data"
    }
   ],
   "source": [
    "last $ term \"1\"\n",
    "last $ term \"(1+2)\"\n",
    "\n",
    "last $ factor \"1\"\n",
    "last $ factor \"1*2*3\"\n",
    "\n",
    "last $ expr \"1\"\n",
    "last $ expr \"1+2+3\"\n",
    "last $ expr \"1+2*3\"\n",
    "last $ expr \"1*2+3\""
   ]
  },
  {
   "cell_type": "code",
   "execution_count": null,
   "metadata": {},
   "outputs": [],
   "source": []
  },
  {
   "cell_type": "code",
   "execution_count": null,
   "metadata": {},
   "outputs": [],
   "source": []
  }
 ],
 "metadata": {
  "kernelspec": {
   "display_name": "Haskell",
   "language": "haskell",
   "name": "haskell"
  },
  "language_info": {
   "codemirror_mode": "ihaskell",
   "file_extension": ".hs",
   "name": "haskell",
   "pygments_lexer": "Haskell",
   "version": "8.4.4"
  }
 },
 "nbformat": 4,
 "nbformat_minor": 2
}
