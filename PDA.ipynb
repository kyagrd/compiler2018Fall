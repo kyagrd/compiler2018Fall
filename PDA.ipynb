{
 "cells": [
  {
   "cell_type": "markdown",
   "metadata": {},
   "source": [
    "This notebook is provided by [Ki Yung Ahn](https://kyagrd.github.io/) as a course material for the compiler course at\n",
    "[Dept. of Computer Engineering](http://ce.hannam.ac.kr), [Hannam University](http://www.hnu.kr/), Daejeon, Korea."
   ]
  },
  {
   "cell_type": "code",
   "execution_count": 2,
   "metadata": {},
   "outputs": [],
   "source": [
    "type Nm = String\n",
    "\n",
    "type State = Int\n",
    "type Sigma = Char\n",
    "data Gamma = N Nm     -- Non-terminal symbol\n",
    "           | T Sigma  -- Terminal symbol\n",
    "           | Z        -- initial stack symbol\n",
    "           deriving (Eq, Show)\n",
    "type Delta = [(State, Maybe Sigma, Maybe Gamma, [Gamma], State)]\n",
    "\n",
    "-- We assume that the set of states are consecutive integers\n",
    "-- from the inital state (min state) to the max state, inclusively.\n",
    "-- (max state, transitions, initial state, final states)\n",
    "type PDA = (State, Delta, State, [State])"
   ]
  },
  {
   "cell_type": "code",
   "execution_count": 3,
   "metadata": {},
   "outputs": [],
   "source": [
    "delta :: PDA -> State -> Maybe Sigma -> Maybe Gamma -> [(State, [Gamma])]\n",
    "delta (_, d, _, _) p ms mg =\n",
    "  [(q,gs) | (p',ms',mg',gs,q)<-d, p==p', ms==ms', mg==mg']"
   ]
  },
  {
   "cell_type": "code",
   "execution_count": 4,
   "metadata": {},
   "outputs": [
    {
     "data": {
      "text/html": [
       "<style>/* Styles used for the Hoogle display in the pager */\n",
       ".hoogle-doc {\n",
       "display: block;\n",
       "padding-bottom: 1.3em;\n",
       "padding-left: 0.4em;\n",
       "}\n",
       ".hoogle-code {\n",
       "display: block;\n",
       "font-family: monospace;\n",
       "white-space: pre;\n",
       "}\n",
       ".hoogle-text {\n",
       "display: block;\n",
       "}\n",
       ".hoogle-name {\n",
       "color: green;\n",
       "font-weight: bold;\n",
       "}\n",
       ".hoogle-head {\n",
       "font-weight: bold;\n",
       "}\n",
       ".hoogle-sub {\n",
       "display: block;\n",
       "margin-left: 0.4em;\n",
       "}\n",
       ".hoogle-package {\n",
       "font-weight: bold;\n",
       "font-style: italic;\n",
       "}\n",
       ".hoogle-module {\n",
       "font-weight: bold;\n",
       "}\n",
       ".hoogle-class {\n",
       "font-weight: bold;\n",
       "}\n",
       ".get-type {\n",
       "color: green;\n",
       "font-weight: bold;\n",
       "font-family: monospace;\n",
       "display: block;\n",
       "white-space: pre-wrap;\n",
       "}\n",
       ".show-type {\n",
       "color: green;\n",
       "font-weight: bold;\n",
       "font-family: monospace;\n",
       "margin-left: 1em;\n",
       "}\n",
       ".mono {\n",
       "font-family: monospace;\n",
       "display: block;\n",
       "}\n",
       ".err-msg {\n",
       "color: red;\n",
       "font-style: italic;\n",
       "font-family: monospace;\n",
       "white-space: pre;\n",
       "display: block;\n",
       "}\n",
       "#unshowable {\n",
       "color: red;\n",
       "font-weight: bold;\n",
       "}\n",
       ".err-msg.in.collapse {\n",
       "padding-top: 0.7em;\n",
       "}\n",
       ".highlight-code {\n",
       "white-space: pre;\n",
       "font-family: monospace;\n",
       "}\n",
       ".suggestion-warning { \n",
       "font-weight: bold;\n",
       "color: rgb(200, 130, 0);\n",
       "}\n",
       ".suggestion-error { \n",
       "font-weight: bold;\n",
       "color: red;\n",
       "}\n",
       ".suggestion-name {\n",
       "font-weight: bold;\n",
       "}\n",
       "</style><span class='get-type'>step :: PDA -> (State, [Sigma], [Gamma]) -> [(State, [Sigma], [Gamma])]</span>"
      ],
      "text/plain": [
       "step :: PDA -> (State, [Sigma], [Gamma]) -> [(State, [Sigma], [Gamma])]"
      ]
     },
     "metadata": {},
     "output_type": "display_data"
    }
   ],
   "source": [
    "step pda (p,   [],  [])   =\n",
    "  [(q,   [], gs')        | (q,gs') <- delta pda p Nothing  Nothing ]\n",
    "step pda (p, c:cs,   [])  =\n",
    "  [(q, c:cs, gs')        | (q,gs') <- delta pda p Nothing  Nothing ] ++\n",
    "  [(q,   cs, gs')        | (q,gs') <- delta pda p (Just c) Nothing ]\n",
    "step pda (p,   [], g:gs) =\n",
    "  [(q,   [], gs'++ g:gs) | (q,gs') <- delta pda p Nothing  Nothing ] ++\n",
    "  [(q,   [], gs'++   gs) | (q,gs') <- delta pda p Nothing  (Just g)]\n",
    "step pda (p, c:cs, g:gs) =\n",
    "  [(q, c:cs, gs'++ g:gs) | (q,gs') <- delta pda p Nothing  Nothing ] ++\n",
    "  [(q,   cs, gs'++ g:gs) | (q,gs') <- delta pda p (Just c) Nothing ] ++\n",
    "  [(q, c:cs, gs'++   gs) | (q,gs') <- delta pda p Nothing  (Just g)] ++\n",
    "  [(q,   cs, gs'++   gs) | (q,gs') <- delta pda p (Just c) (Just g)]\n",
    "\n",
    ":type step"
   ]
  },
  {
   "cell_type": "code",
   "execution_count": 5,
   "metadata": {},
   "outputs": [
    {
     "data": {
      "text/html": [
       "<style>/* Styles used for the Hoogle display in the pager */\n",
       ".hoogle-doc {\n",
       "display: block;\n",
       "padding-bottom: 1.3em;\n",
       "padding-left: 0.4em;\n",
       "}\n",
       ".hoogle-code {\n",
       "display: block;\n",
       "font-family: monospace;\n",
       "white-space: pre;\n",
       "}\n",
       ".hoogle-text {\n",
       "display: block;\n",
       "}\n",
       ".hoogle-name {\n",
       "color: green;\n",
       "font-weight: bold;\n",
       "}\n",
       ".hoogle-head {\n",
       "font-weight: bold;\n",
       "}\n",
       ".hoogle-sub {\n",
       "display: block;\n",
       "margin-left: 0.4em;\n",
       "}\n",
       ".hoogle-package {\n",
       "font-weight: bold;\n",
       "font-style: italic;\n",
       "}\n",
       ".hoogle-module {\n",
       "font-weight: bold;\n",
       "}\n",
       ".hoogle-class {\n",
       "font-weight: bold;\n",
       "}\n",
       ".get-type {\n",
       "color: green;\n",
       "font-weight: bold;\n",
       "font-family: monospace;\n",
       "display: block;\n",
       "white-space: pre-wrap;\n",
       "}\n",
       ".show-type {\n",
       "color: green;\n",
       "font-weight: bold;\n",
       "font-family: monospace;\n",
       "margin-left: 1em;\n",
       "}\n",
       ".mono {\n",
       "font-family: monospace;\n",
       "display: block;\n",
       "}\n",
       ".err-msg {\n",
       "color: red;\n",
       "font-style: italic;\n",
       "font-family: monospace;\n",
       "white-space: pre;\n",
       "display: block;\n",
       "}\n",
       "#unshowable {\n",
       "color: red;\n",
       "font-weight: bold;\n",
       "}\n",
       ".err-msg.in.collapse {\n",
       "padding-top: 0.7em;\n",
       "}\n",
       ".highlight-code {\n",
       "white-space: pre;\n",
       "font-family: monospace;\n",
       "}\n",
       ".suggestion-warning { \n",
       "font-weight: bold;\n",
       "color: rgb(200, 130, 0);\n",
       "}\n",
       ".suggestion-error { \n",
       "font-weight: bold;\n",
       "color: red;\n",
       "}\n",
       ".suggestion-name {\n",
       "font-weight: bold;\n",
       "}\n",
       "</style><span class='get-type'>(|-) :: (State, [Sigma], [Gamma]) -> (State, [Sigma], [Gamma]) -> PDA -> Bool</span>"
      ],
      "text/plain": [
       "(|-) :: (State, [Sigma], [Gamma]) -> (State, [Sigma], [Gamma]) -> PDA -> Bool"
      ]
     },
     "metadata": {},
     "output_type": "display_data"
    }
   ],
   "source": [
    "(p,cs,gs) |- (q,cs',gs') = \\pda -> (q,cs',gs') `elem` step pda (p,cs,gs)\n",
    "\n",
    ":type (|-)"
   ]
  },
  {
   "cell_type": "code",
   "execution_count": 6,
   "metadata": {},
   "outputs": [],
   "source": [
    "-- reflexive transitive relation over |- limited by maximum number of steps \n",
    "(|-*) :: (State, [Sigma], [Gamma]) -> (State, [Sigma], [Gamma]) -> (PDA, Int) -> Bool\n",
    "(|-*) (p,cs,gs) (q,cs',gs') (_,   n) | n <= 0 = (p,cs,gs)==(q,cs',gs')\n",
    "(|-*) (p,cs,gs) (q,cs',gs') (_,   _) | (p,cs,gs)==(q,cs',gs') = True\n",
    "(|-*) (p,cs,gs) (q,cs',gs') (pda, n) =\n",
    "  or [(p1,cs1,gs1) |-* (q,cs',gs') $ (pda, n-1) | (p1,cs1,gs1) <- step pda (p,cs,gs)]"
   ]
  },
  {
   "cell_type": "markdown",
   "metadata": {},
   "source": [
    "PDA for the conext-free language $\\displaystyle \\{a^nb^n \\mid n\\ge 0\\}$.\n",
    "\n",
    "* $S \\to AZ$\n",
    "* $A \\to \\epsilon$\n",
    "* $A \\to aAb$\n",
    "\n",
    "<img src=\"https://graphviz.glitch.me/graphviz?layout=dot&format=svg&mode=download&graph=digraph%20G%20%7B%0A%20%20%20%20node%20%5Bshape%3D%22circle%22%5D%3B%0A%09start%20-%3E%200%3B%0A%20%20%20%200%20-%3E%200%20%5Blabel%3D%22%CE%B5%3B%20Z%2FAZ%20%20%5Cn%CE%B5%3B%20A%2FaAb%5Cna%3B%20a%2F%CE%B5%20%20%20%20%20%20%22%5D%3B%0A%090%20-%3E%201%20%5Blabel%3D%22%CE%B5%3B%20A%2F%CE%B5%22%5D%3B%0A%20%20%20%201%20-%3E%201%20%5Blabel%3D%22b%3B%20b%2F%CE%B5%22%5D%3B%0A%091%20-%3E%202%20%5Blabel%3D%22%CE%B5%3B%20Z%2F%CE%B5%22%5D%3B%0A%20%20%20%20%0A%09start%20%5Bshape%3Dnone%5D%3B%0A%20%20%20%202%20%5Bshape%3Ddoublecircle%5D%3B%0A%20%20%20%20%0A%20%20%20%20%2F%2F%20%7Brank%20%3D%20same%3B%20start%3B%200%3B%201%3B%202%3B%7D%0A%7D\" />"
   ]
  },
  {
   "cell_type": "code",
   "execution_count": 7,
   "metadata": {},
   "outputs": [],
   "source": [
    "anbnPDA :: PDA\n",
    "anbnPDA = (2,d,0,[2])\n",
    "  where\n",
    "    d = [ (0, e,__Z, [_A, Z],    0) -- start\n",
    "        , (0, e,__A, [_a,_A,_b], 0) -- production rule A -> aAb\n",
    "        , (0, a,__a, [],         0) -- matching input a with stack terminal symbol\n",
    "        , (0, e,__A, [],         1) -- production rule A -> \\epsilon\n",
    "        , (1, b,__b, [],         1) -- matching input b with stack terminal symbol\n",
    "        , (1, e,__Z, [],         2) -- finish\n",
    "        ]\n",
    "    e = Nothing\n",
    "    a = Just 'a'\n",
    "    b = Just 'b'\n",
    "    __Z = Just Z\n",
    "    __A = Just _A\n",
    "    __a = Just _a\n",
    "    __b = Just _b\n",
    "\n",
    "_A = N \"A\"\n",
    "_a  = T 'a'\n",
    "_b  = T 'b'"
   ]
  },
  {
   "cell_type": "code",
   "execution_count": 8,
   "metadata": {},
   "outputs": [
    {
     "data": {
      "text/plain": [
       "True"
      ]
     },
     "metadata": {},
     "output_type": "display_data"
    },
    {
     "data": {
      "text/plain": [
       "True"
      ]
     },
     "metadata": {},
     "output_type": "display_data"
    },
    {
     "data": {
      "text/plain": [
       "True"
      ]
     },
     "metadata": {},
     "output_type": "display_data"
    },
    {
     "data": {
      "text/plain": [
       "True"
      ]
     },
     "metadata": {},
     "output_type": "display_data"
    },
    {
     "data": {
      "text/plain": [
       "True"
      ]
     },
     "metadata": {},
     "output_type": "display_data"
    },
    {
     "data": {
      "text/plain": [
       "True"
      ]
     },
     "metadata": {},
     "output_type": "display_data"
    },
    {
     "data": {
      "text/plain": [
       "True"
      ]
     },
     "metadata": {},
     "output_type": "display_data"
    },
    {
     "data": {
      "text/plain": [
       "True"
      ]
     },
     "metadata": {},
     "output_type": "display_data"
    },
    {
     "data": {
      "text/plain": [
       "True"
      ]
     },
     "metadata": {},
     "output_type": "display_data"
    }
   ],
   "source": [
    "(0,\"aabb\",            [ Z]) |- (0,\"aabb\",         [_A, Z]) $ anbnPDA\n",
    "(0,\"aabb\",         [_A, Z]) |- (0,\"aabb\",   [_a,_A,_b, Z]) $ anbnPDA\n",
    "(0,\"aabb\",   [_a,_A,_b, Z]) |- (0, \"abb\",      [_A,_b, Z]) $ anbnPDA\n",
    "(0, \"abb\",      [_A,_b, Z]) |- (0, \"abb\",[_a,_A,_b,_b, Z]) $ anbnPDA\n",
    "(0, \"abb\",[_a,_A,_b,_b, Z]) |- (0,  \"bb\",   [_A,_b,_b, Z]) $ anbnPDA\n",
    "(0,  \"bb\",   [_A,_b,_b, Z]) |- (1,  \"bb\",      [_b,_b, Z]) $ anbnPDA\n",
    "(1,  \"bb\",      [_b,_b, Z]) |- (1,   \"b\",         [_b, Z]) $ anbnPDA\n",
    "(1,   \"b\",         [_b, Z]) |- (1,    \"\",            [ Z]) $ anbnPDA\n",
    "(1,    \"\",            [ Z]) |- (2,    \"\",              []) $ anbnPDA"
   ]
  },
  {
   "cell_type": "code",
   "execution_count": 9,
   "metadata": {},
   "outputs": [
    {
     "data": {
      "text/plain": [
       "False"
      ]
     },
     "metadata": {},
     "output_type": "display_data"
    },
    {
     "data": {
      "text/plain": [
       "False"
      ]
     },
     "metadata": {},
     "output_type": "display_data"
    },
    {
     "data": {
      "text/plain": [
       "False"
      ]
     },
     "metadata": {},
     "output_type": "display_data"
    },
    {
     "data": {
      "text/plain": [
       "False"
      ]
     },
     "metadata": {},
     "output_type": "display_data"
    },
    {
     "data": {
      "text/plain": [
       "False"
      ]
     },
     "metadata": {},
     "output_type": "display_data"
    },
    {
     "data": {
      "text/plain": [
       "False"
      ]
     },
     "metadata": {},
     "output_type": "display_data"
    },
    {
     "data": {
      "text/plain": [
       "False"
      ]
     },
     "metadata": {},
     "output_type": "display_data"
    },
    {
     "data": {
      "text/plain": [
       "False"
      ]
     },
     "metadata": {},
     "output_type": "display_data"
    },
    {
     "data": {
      "text/plain": [
       "False"
      ]
     },
     "metadata": {},
     "output_type": "display_data"
    },
    {
     "data": {
      "text/plain": [
       "True"
      ]
     },
     "metadata": {},
     "output_type": "display_data"
    },
    {
     "data": {
      "text/plain": [
       "True"
      ]
     },
     "metadata": {},
     "output_type": "display_data"
    },
    {
     "data": {
      "text/plain": [
       "True"
      ]
     },
     "metadata": {},
     "output_type": "display_data"
    }
   ],
   "source": [
    "(0,\"aabb\",[Z]) |-* (2,\"\",[]) $ (anbnPDA, 0)\n",
    "(0,\"aabb\",[Z]) |-* (2,\"\",[]) $ (anbnPDA, 1)\n",
    "(0,\"aabb\",[Z]) |-* (2,\"\",[]) $ (anbnPDA, 2)\n",
    "(0,\"aabb\",[Z]) |-* (2,\"\",[]) $ (anbnPDA, 3)\n",
    "(0,\"aabb\",[Z]) |-* (2,\"\",[]) $ (anbnPDA, 4)\n",
    "(0,\"aabb\",[Z]) |-* (2,\"\",[]) $ (anbnPDA, 5)\n",
    "(0,\"aabb\",[Z]) |-* (2,\"\",[]) $ (anbnPDA, 6)\n",
    "(0,\"aabb\",[Z]) |-* (2,\"\",[]) $ (anbnPDA, 7)\n",
    "(0,\"aabb\",[Z]) |-* (2,\"\",[]) $ (anbnPDA, 8)\n",
    "(0,\"aabb\",[Z]) |-* (2,\"\",[]) $ (anbnPDA, 9)\n",
    "(0,\"aabb\",[Z]) |-* (2,\"\",[]) $ (anbnPDA,10)\n",
    "(0,\"aabb\",[Z]) |-* (2,\"\",[]) $ (anbnPDA,11)"
   ]
  },
  {
   "cell_type": "code",
   "execution_count": 10,
   "metadata": {},
   "outputs": [],
   "source": [
    "accepts cs pda@(_,_,q0,fs) n = or [(q0,cs,[Z]) |-* (f,\"\",[]) $ (pda, n) | f<-fs]"
   ]
  },
  {
   "cell_type": "code",
   "execution_count": 11,
   "metadata": {},
   "outputs": [
    {
     "data": {
      "text/plain": [
       "True"
      ]
     },
     "metadata": {},
     "output_type": "display_data"
    },
    {
     "data": {
      "text/plain": [
       "True"
      ]
     },
     "metadata": {},
     "output_type": "display_data"
    },
    {
     "data": {
      "text/plain": [
       "True"
      ]
     },
     "metadata": {},
     "output_type": "display_data"
    }
   ],
   "source": [
    "accepts \"\" anbnPDA 10\n",
    "accepts \"ab\" anbnPDA 10\n",
    "accepts \"aabb\" anbnPDA 10"
   ]
  },
  {
   "cell_type": "code",
   "execution_count": 12,
   "metadata": {},
   "outputs": [
    {
     "data": {
      "text/plain": [
       "False"
      ]
     },
     "metadata": {},
     "output_type": "display_data"
    },
    {
     "data": {
      "text/plain": [
       "False"
      ]
     },
     "metadata": {},
     "output_type": "display_data"
    },
    {
     "data": {
      "text/plain": [
       "False"
      ]
     },
     "metadata": {},
     "output_type": "display_data"
    },
    {
     "data": {
      "text/plain": [
       "False"
      ]
     },
     "metadata": {},
     "output_type": "display_data"
    },
    {
     "data": {
      "text/plain": [
       "False"
      ]
     },
     "metadata": {},
     "output_type": "display_data"
    },
    {
     "data": {
      "text/plain": [
       "False"
      ]
     },
     "metadata": {},
     "output_type": "display_data"
    }
   ],
   "source": [
    "accepts \"a\" anbnPDA 10\n",
    "accepts \"b\" anbnPDA 10\n",
    "accepts \"aa\" anbnPDA 10\n",
    "accepts \"bb\" anbnPDA 10\n",
    "accepts \"aab\" anbnPDA 10\n",
    "accepts \"abb\" anbnPDA 10"
   ]
  },
  {
   "cell_type": "markdown",
   "metadata": {},
   "source": [
    "---\n",
    "과제의 문법과 비슷한 중간단계로 연산자 우선순위는 확정했지만 왼쪽재귀가 있는 문법\n",
    "\n",
    "```\n",
    "term   ::= digit   |  '(' expr ')'\n",
    "factor ::= term    |  factor '*' term\n",
    "expr   ::= factor  |  expr   '+' factor\n",
    "```\n",
    "\n",
    "* $S\\to EZ$\n",
    "* $T\\to a$\n",
    "* $T\\to ( ~ E ~ )$\n",
    "* $F\\to T$\n",
    "* $F\\to F ~ * ~ T$\n",
    "* $E\\to F$\n",
    "* $E\\to E ~ + ~ F$\n",
    "\n",
    "<img src=\"https://graphviz.glitch.me/graphviz?layout=dot&format=svg&mode=download&graph=digraph%20G%20%7B%0Anode%20%5Bshape%3Dcircle%5D%3B%0A%0Astart%20-%3E%200%3B%0A0%20-%3E%200%20%5Blabel%3D%22%20%CE%B5%3B%20Z%2FEZ%20%20%5Cn%20%CE%B5%3B%20E%2FE%2BF%22%5D%3B%0A0%20-%3E%201%20%5Blabel%3D%22%20%CE%B5%3B%20E%2FF%22%5D%3B%0A1%20-%3E%201%20%5Blabel%3D%22%20%CE%B5%3B%20F%2FF*T%22%5D%3B%0A1%20-%3E%202%20%5Blabel%3D%22%20%CE%B5%3B%20F%2FT%22%5D%3B%0A2%20-%3E%202%20%5Blabel%3D%22%20%CE%B5%3B%20T%2Fa%20%20%20%20%20%20a%3B%20a%2F%CE%B5%20%20%20%20%5Cn%20%CE%B5%3B%20T%2F(E)%20%20%20)%3B%20)%2F%CE%B5%20%20%20%20%5Cn%20%20%20%20%20%20%20%20%20%20%20%20*%3B%20*%2F%CE%B5%22%5D%3B%0A2%20-%3E%200%20%5Blabel%3D%22%20(%3B%20(%2F%CE%B5%22%5D%3B%0A2%20-%3E%201%20%5Blabel%3D%22%20%2B%3B%20%2B%2F%CE%B5%22%5D%3B%0A2%20-%3E%203%20%5Blabel%3D%22%20%CE%B5%3B%20Z%2F%CE%B5%22%5D%3B%0A%0Astart%20%5Bshape%3Dnone%5D%3B%0A3%20%5Bshape%3Ddoublecircle%5D%3B%0A%7D\" />"
   ]
  },
  {
   "cell_type": "code",
   "execution_count": 47,
   "metadata": {},
   "outputs": [],
   "source": [
    "exprPDA :: PDA\n",
    "exprPDA = (3,d,0,[3])\n",
    "  where\n",
    "    d = [ (0, e,__Z, [ _E,  Z],         0) -- start\n",
    "        , (0, e,__E, [ _F],             1) -- produce E -> F\n",
    "        , (0, e,__E, [ _E,_t,_F],       0) -- produce E -> E + F\n",
    "        , (1, e,__F, [ _T],             2) -- produce F -> T\n",
    "        , (1, e,__F, [ _F,_x,_T],       1) -- produce F -> F x T\n",
    "        , (2, e,__T, [ _a],             2) -- produce T -> a\n",
    "        , (2, e,__T, [_lp,_E,_rp],      2) -- producE T -> ( E )\n",
    "        \n",
    "        , (2, a,__a, [], 2) -- match a\n",
    "        , (2,rp,__rp,[], 2) -- match )\n",
    "        , (2, x,__x, [], 2) -- match *\n",
    "        , (2,lp,__lp,[], 0) -- match (\n",
    "        , (2, t,__t, [], 1) -- match +\n",
    "        \n",
    "        , (2, e,__Z, [], 3) -- finish\n",
    "        ]\n",
    "    e = Nothing\n",
    "    a  = Just 'a'\n",
    "    t  = Just '+'\n",
    "    x  = Just '*'\n",
    "    lp = Just '('\n",
    "    rp = Just ')'\n",
    "    __Z = Just Z\n",
    "    __T = Just _T\n",
    "    __F = Just _F\n",
    "    __E = Just _E\n",
    "    __a = Just _a\n",
    "    __t = Just _t\n",
    "    __x = Just _x\n",
    "    __lp = Just _lp\n",
    "    __rp = Just _rp\n",
    "\n",
    "_T = N \"T\"\n",
    "_F = N \"F\"\n",
    "_E = N \"E\"\n",
    "_a  = T 'a'\n",
    "_t  = T '+'\n",
    "_x  = T '*'\n",
    "_lp  = T '('\n",
    "_rp  = T ')'"
   ]
  },
  {
   "cell_type": "code",
   "execution_count": 48,
   "metadata": {},
   "outputs": [
    {
     "data": {
      "text/plain": [
       "True"
      ]
     },
     "metadata": {},
     "output_type": "display_data"
    },
    {
     "data": {
      "text/plain": [
       "True"
      ]
     },
     "metadata": {},
     "output_type": "display_data"
    },
    {
     "data": {
      "text/plain": [
       "True"
      ]
     },
     "metadata": {},
     "output_type": "display_data"
    },
    {
     "data": {
      "text/plain": [
       "True"
      ]
     },
     "metadata": {},
     "output_type": "display_data"
    },
    {
     "data": {
      "text/plain": [
       "True"
      ]
     },
     "metadata": {},
     "output_type": "display_data"
    },
    {
     "data": {
      "text/plain": [
       "True"
      ]
     },
     "metadata": {},
     "output_type": "display_data"
    },
    {
     "data": {
      "text/plain": [
       "True"
      ]
     },
     "metadata": {},
     "output_type": "display_data"
    },
    {
     "data": {
      "text/plain": [
       "True"
      ]
     },
     "metadata": {},
     "output_type": "display_data"
    },
    {
     "data": {
      "text/plain": [
       "True"
      ]
     },
     "metadata": {},
     "output_type": "display_data"
    },
    {
     "data": {
      "text/plain": [
       "True"
      ]
     },
     "metadata": {},
     "output_type": "display_data"
    },
    {
     "data": {
      "text/plain": [
       "True"
      ]
     },
     "metadata": {},
     "output_type": "display_data"
    },
    {
     "data": {
      "text/plain": [
       "True"
      ]
     },
     "metadata": {},
     "output_type": "display_data"
    },
    {
     "data": {
      "text/plain": [
       "True"
      ]
     },
     "metadata": {},
     "output_type": "display_data"
    },
    {
     "data": {
      "text/plain": [
       "True"
      ]
     },
     "metadata": {},
     "output_type": "display_data"
    },
    {
     "data": {
      "text/plain": [
       "True"
      ]
     },
     "metadata": {},
     "output_type": "display_data"
    },
    {
     "data": {
      "text/plain": [
       "True"
      ]
     },
     "metadata": {},
     "output_type": "display_data"
    },
    {
     "data": {
      "text/plain": [
       "True"
      ]
     },
     "metadata": {},
     "output_type": "display_data"
    },
    {
     "data": {
      "text/plain": [
       "True"
      ]
     },
     "metadata": {},
     "output_type": "display_data"
    },
    {
     "data": {
      "text/plain": [
       "True"
      ]
     },
     "metadata": {},
     "output_type": "display_data"
    },
    {
     "data": {
      "text/plain": [
       "True"
      ]
     },
     "metadata": {},
     "output_type": "display_data"
    },
    {
     "data": {
      "text/plain": [
       "True"
      ]
     },
     "metadata": {},
     "output_type": "display_data"
    }
   ],
   "source": [
    "(0,\"(a+a)*a\",                    [ Z]) |- (0,\"(a+a)*a\",                 [_E, Z]) $ exprPDA\n",
    "(0,\"(a+a)*a\",                 [_E, Z]) |- (1,\"(a+a)*a\",                 [_F, Z]) $ exprPDA\n",
    "(1,\"(a+a)*a\",                 [_F, Z]) |- (1,\"(a+a)*a\",           [_F,_x,_T, Z]) $ exprPDA\n",
    "(1,\"(a+a)*a\",           [_F,_x,_T, Z]) |- (2,\"(a+a)*a\",           [_T,_x,_T, Z]) $ exprPDA\n",
    "(1,\"(a+a)*a\",           [_F,_x,_T, Z]) |- (2,\"(a+a)*a\",           [_T,_x,_T, Z]) $ exprPDA\n",
    "(2,\"(a+a)*a\",           [_T,_x,_T, Z]) |- (2,\"(a+a)*a\",   [_lp,_E,_rp,_x,_T, Z]) $ exprPDA\n",
    "(2,\"(a+a)*a\",   [_lp,_E,_rp,_x,_T, Z]) |- (0, \"a+a)*a\",       [_E,_rp,_x,_T, Z]) $ exprPDA\n",
    "(0, \"a+a)*a\",       [_E,_rp,_x,_T, Z]) |- (0, \"a+a)*a\", [_E,_t,_F,_rp,_x,_T, Z]) $ exprPDA\n",
    "(0, \"a+a)*a\", [_E,_t,_F,_rp,_x,_T, Z]) |- (1, \"a+a)*a\", [_F,_t,_F,_rp,_x,_T, Z]) $ exprPDA\n",
    "(1, \"a+a)*a\", [_F,_t,_F,_rp,_x,_T, Z]) |- (2, \"a+a)*a\", [_T,_t,_F,_rp,_x,_T, Z]) $ exprPDA\n",
    "(2, \"a+a)*a\", [_T,_t,_F,_rp,_x,_T, Z]) |- (2, \"a+a)*a\", [_a,_t,_F,_rp,_x,_T, Z]) $ exprPDA\n",
    "(2, \"a+a)*a\", [_a,_t,_F,_rp,_x,_T, Z]) |- (2,  \"+a)*a\",    [_t,_F,_rp,_x,_T, Z]) $ exprPDA\n",
    "(2,  \"+a)*a\",    [_t,_F,_rp,_x,_T, Z]) |- (1,   \"a)*a\",       [_F,_rp,_x,_T, Z]) $ exprPDA\n",
    "(1,   \"a)*a\",       [_F,_rp,_x,_T, Z]) |- (2,   \"a)*a\",       [_T,_rp,_x,_T, Z]) $ exprPDA\n",
    "(2,   \"a)*a\",       [_T,_rp,_x,_T, Z]) |- (2,   \"a)*a\",       [_a,_rp,_x,_T, Z]) $ exprPDA\n",
    "(2,   \"a)*a\",       [_a,_rp,_x,_T, Z]) |- (2,    \")*a\",          [_rp,_x,_T, Z]) $ exprPDA\n",
    "(2,    \")*a\",          [_rp,_x,_T, Z]) |- (2,     \"*a\",              [_x,_T, Z]) $ exprPDA\n",
    "(2,     \"*a\",              [_x,_T, Z]) |- (2,      \"a\",                 [_T, Z]) $ exprPDA\n",
    "(2,      \"a\",                 [_T, Z]) |- (2,      \"a\",                 [_a, Z]) $ exprPDA\n",
    "(2,      \"a\",                 [_a, Z]) |- (2,       \"\",                     [Z]) $ exprPDA\n",
    "(2,       \"\",                     [Z]) |- (3,       \"\",                      []) $ exprPDA"
   ]
  },
  {
   "cell_type": "code",
   "execution_count": null,
   "metadata": {},
   "outputs": [],
   "source": []
  }
 ],
 "metadata": {
  "kernelspec": {
   "display_name": "Haskell",
   "language": "haskell",
   "name": "haskell"
  },
  "language_info": {
   "codemirror_mode": "ihaskell",
   "file_extension": ".hs",
   "name": "haskell",
   "pygments_lexer": "Haskell",
   "version": "8.4.4"
  }
 },
 "nbformat": 4,
 "nbformat_minor": 2
}
